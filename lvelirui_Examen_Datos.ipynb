{
  "nbformat": 4,
  "nbformat_minor": 0,
  "metadata": {
    "colab": {
      "provenance": [],
      "toc_visible": true
    },
    "kernelspec": {
      "name": "python3",
      "display_name": "Python 3"
    },
    "language_info": {
      "name": "python"
    }
  },
  "cells": [
    {
      "cell_type": "markdown",
      "source": [
        "El objetivo de este dataset es estudiar las variables cartográficas para poder predecir el tipo de cubierta foresta (Cover_Type), que será nuestra varibale objetivo."
      ],
      "metadata": {
        "id": "p-1hn0O5TA63"
      }
    },
    {
      "cell_type": "code",
      "execution_count": 1,
      "metadata": {
        "colab": {
          "base_uri": "https://localhost:8080/"
        },
        "id": "rEP9k727S2rz",
        "outputId": "24e043f0-a8fc-4764-b6e3-352b7f94fe1d"
      },
      "outputs": [
        {
          "output_type": "stream",
          "name": "stdout",
          "text": [
            "Done\n"
          ]
        }
      ],
      "source": [
        "import pandas as pd\n",
        "import numpy as np\n",
        "import gzip\n",
        "print('Done')"
      ]
    },
    {
      "cell_type": "code",
      "source": [
        "# descomprimimos el archivo y creamos un dataframe con los datos que contiene\n",
        "with gzip.open('covtype.data.gz', 'rb') as f:\n",
        "    df = pd.read_csv(f, delimiter=',')\n",
        "df.to_csv('datos-forest.csv', index=False)"
      ],
      "metadata": {
        "id": "VbVrNeokTEeK"
      },
      "execution_count": 2,
      "outputs": []
    },
    {
      "cell_type": "code",
      "source": [
        "df.head()"
      ],
      "metadata": {
        "colab": {
          "base_uri": "https://localhost:8080/",
          "height": 299
        },
        "id": "YPVBXFEsTI9_",
        "outputId": "8c9cdd24-bcdf-4ee7-9cac-0d5c7e6de024"
      },
      "execution_count": 3,
      "outputs": [
        {
          "output_type": "execute_result",
          "data": {
            "text/plain": [
              "   2596   51   3  258    0   510  221  232  148  6279  ...  0.34  0.35  0.36  \\\n",
              "0  2590   56   2  212   -6   390  220  235  151  6225  ...     0     0     0   \n",
              "1  2804  139   9  268   65  3180  234  238  135  6121  ...     0     0     0   \n",
              "2  2785  155  18  242  118  3090  238  238  122  6211  ...     0     0     0   \n",
              "3  2595   45   2  153   -1   391  220  234  150  6172  ...     0     0     0   \n",
              "4  2579  132   6  300  -15    67  230  237  140  6031  ...     0     0     0   \n",
              "\n",
              "   0.37  0.38  0.39  0.40  0.41  0.42  5  \n",
              "0     0     0     0     0     0     0  5  \n",
              "1     0     0     0     0     0     0  2  \n",
              "2     0     0     0     0     0     0  2  \n",
              "3     0     0     0     0     0     0  5  \n",
              "4     0     0     0     0     0     0  2  \n",
              "\n",
              "[5 rows x 55 columns]"
            ],
            "text/html": [
              "\n",
              "  <div id=\"df-393a0be1-d451-4b00-b5d5-218c876eeec8\">\n",
              "    <div class=\"colab-df-container\">\n",
              "      <div>\n",
              "<style scoped>\n",
              "    .dataframe tbody tr th:only-of-type {\n",
              "        vertical-align: middle;\n",
              "    }\n",
              "\n",
              "    .dataframe tbody tr th {\n",
              "        vertical-align: top;\n",
              "    }\n",
              "\n",
              "    .dataframe thead th {\n",
              "        text-align: right;\n",
              "    }\n",
              "</style>\n",
              "<table border=\"1\" class=\"dataframe\">\n",
              "  <thead>\n",
              "    <tr style=\"text-align: right;\">\n",
              "      <th></th>\n",
              "      <th>2596</th>\n",
              "      <th>51</th>\n",
              "      <th>3</th>\n",
              "      <th>258</th>\n",
              "      <th>0</th>\n",
              "      <th>510</th>\n",
              "      <th>221</th>\n",
              "      <th>232</th>\n",
              "      <th>148</th>\n",
              "      <th>6279</th>\n",
              "      <th>...</th>\n",
              "      <th>0.34</th>\n",
              "      <th>0.35</th>\n",
              "      <th>0.36</th>\n",
              "      <th>0.37</th>\n",
              "      <th>0.38</th>\n",
              "      <th>0.39</th>\n",
              "      <th>0.40</th>\n",
              "      <th>0.41</th>\n",
              "      <th>0.42</th>\n",
              "      <th>5</th>\n",
              "    </tr>\n",
              "  </thead>\n",
              "  <tbody>\n",
              "    <tr>\n",
              "      <th>0</th>\n",
              "      <td>2590</td>\n",
              "      <td>56</td>\n",
              "      <td>2</td>\n",
              "      <td>212</td>\n",
              "      <td>-6</td>\n",
              "      <td>390</td>\n",
              "      <td>220</td>\n",
              "      <td>235</td>\n",
              "      <td>151</td>\n",
              "      <td>6225</td>\n",
              "      <td>...</td>\n",
              "      <td>0</td>\n",
              "      <td>0</td>\n",
              "      <td>0</td>\n",
              "      <td>0</td>\n",
              "      <td>0</td>\n",
              "      <td>0</td>\n",
              "      <td>0</td>\n",
              "      <td>0</td>\n",
              "      <td>0</td>\n",
              "      <td>5</td>\n",
              "    </tr>\n",
              "    <tr>\n",
              "      <th>1</th>\n",
              "      <td>2804</td>\n",
              "      <td>139</td>\n",
              "      <td>9</td>\n",
              "      <td>268</td>\n",
              "      <td>65</td>\n",
              "      <td>3180</td>\n",
              "      <td>234</td>\n",
              "      <td>238</td>\n",
              "      <td>135</td>\n",
              "      <td>6121</td>\n",
              "      <td>...</td>\n",
              "      <td>0</td>\n",
              "      <td>0</td>\n",
              "      <td>0</td>\n",
              "      <td>0</td>\n",
              "      <td>0</td>\n",
              "      <td>0</td>\n",
              "      <td>0</td>\n",
              "      <td>0</td>\n",
              "      <td>0</td>\n",
              "      <td>2</td>\n",
              "    </tr>\n",
              "    <tr>\n",
              "      <th>2</th>\n",
              "      <td>2785</td>\n",
              "      <td>155</td>\n",
              "      <td>18</td>\n",
              "      <td>242</td>\n",
              "      <td>118</td>\n",
              "      <td>3090</td>\n",
              "      <td>238</td>\n",
              "      <td>238</td>\n",
              "      <td>122</td>\n",
              "      <td>6211</td>\n",
              "      <td>...</td>\n",
              "      <td>0</td>\n",
              "      <td>0</td>\n",
              "      <td>0</td>\n",
              "      <td>0</td>\n",
              "      <td>0</td>\n",
              "      <td>0</td>\n",
              "      <td>0</td>\n",
              "      <td>0</td>\n",
              "      <td>0</td>\n",
              "      <td>2</td>\n",
              "    </tr>\n",
              "    <tr>\n",
              "      <th>3</th>\n",
              "      <td>2595</td>\n",
              "      <td>45</td>\n",
              "      <td>2</td>\n",
              "      <td>153</td>\n",
              "      <td>-1</td>\n",
              "      <td>391</td>\n",
              "      <td>220</td>\n",
              "      <td>234</td>\n",
              "      <td>150</td>\n",
              "      <td>6172</td>\n",
              "      <td>...</td>\n",
              "      <td>0</td>\n",
              "      <td>0</td>\n",
              "      <td>0</td>\n",
              "      <td>0</td>\n",
              "      <td>0</td>\n",
              "      <td>0</td>\n",
              "      <td>0</td>\n",
              "      <td>0</td>\n",
              "      <td>0</td>\n",
              "      <td>5</td>\n",
              "    </tr>\n",
              "    <tr>\n",
              "      <th>4</th>\n",
              "      <td>2579</td>\n",
              "      <td>132</td>\n",
              "      <td>6</td>\n",
              "      <td>300</td>\n",
              "      <td>-15</td>\n",
              "      <td>67</td>\n",
              "      <td>230</td>\n",
              "      <td>237</td>\n",
              "      <td>140</td>\n",
              "      <td>6031</td>\n",
              "      <td>...</td>\n",
              "      <td>0</td>\n",
              "      <td>0</td>\n",
              "      <td>0</td>\n",
              "      <td>0</td>\n",
              "      <td>0</td>\n",
              "      <td>0</td>\n",
              "      <td>0</td>\n",
              "      <td>0</td>\n",
              "      <td>0</td>\n",
              "      <td>2</td>\n",
              "    </tr>\n",
              "  </tbody>\n",
              "</table>\n",
              "<p>5 rows × 55 columns</p>\n",
              "</div>\n",
              "      <button class=\"colab-df-convert\" onclick=\"convertToInteractive('df-393a0be1-d451-4b00-b5d5-218c876eeec8')\"\n",
              "              title=\"Convert this dataframe to an interactive table.\"\n",
              "              style=\"display:none;\">\n",
              "        \n",
              "  <svg xmlns=\"http://www.w3.org/2000/svg\" height=\"24px\"viewBox=\"0 0 24 24\"\n",
              "       width=\"24px\">\n",
              "    <path d=\"M0 0h24v24H0V0z\" fill=\"none\"/>\n",
              "    <path d=\"M18.56 5.44l.94 2.06.94-2.06 2.06-.94-2.06-.94-.94-2.06-.94 2.06-2.06.94zm-11 1L8.5 8.5l.94-2.06 2.06-.94-2.06-.94L8.5 2.5l-.94 2.06-2.06.94zm10 10l.94 2.06.94-2.06 2.06-.94-2.06-.94-.94-2.06-.94 2.06-2.06.94z\"/><path d=\"M17.41 7.96l-1.37-1.37c-.4-.4-.92-.59-1.43-.59-.52 0-1.04.2-1.43.59L10.3 9.45l-7.72 7.72c-.78.78-.78 2.05 0 2.83L4 21.41c.39.39.9.59 1.41.59.51 0 1.02-.2 1.41-.59l7.78-7.78 2.81-2.81c.8-.78.8-2.07 0-2.86zM5.41 20L4 18.59l7.72-7.72 1.47 1.35L5.41 20z\"/>\n",
              "  </svg>\n",
              "      </button>\n",
              "      \n",
              "  <style>\n",
              "    .colab-df-container {\n",
              "      display:flex;\n",
              "      flex-wrap:wrap;\n",
              "      gap: 12px;\n",
              "    }\n",
              "\n",
              "    .colab-df-convert {\n",
              "      background-color: #E8F0FE;\n",
              "      border: none;\n",
              "      border-radius: 50%;\n",
              "      cursor: pointer;\n",
              "      display: none;\n",
              "      fill: #1967D2;\n",
              "      height: 32px;\n",
              "      padding: 0 0 0 0;\n",
              "      width: 32px;\n",
              "    }\n",
              "\n",
              "    .colab-df-convert:hover {\n",
              "      background-color: #E2EBFA;\n",
              "      box-shadow: 0px 1px 2px rgba(60, 64, 67, 0.3), 0px 1px 3px 1px rgba(60, 64, 67, 0.15);\n",
              "      fill: #174EA6;\n",
              "    }\n",
              "\n",
              "    [theme=dark] .colab-df-convert {\n",
              "      background-color: #3B4455;\n",
              "      fill: #D2E3FC;\n",
              "    }\n",
              "\n",
              "    [theme=dark] .colab-df-convert:hover {\n",
              "      background-color: #434B5C;\n",
              "      box-shadow: 0px 1px 3px 1px rgba(0, 0, 0, 0.15);\n",
              "      filter: drop-shadow(0px 1px 2px rgba(0, 0, 0, 0.3));\n",
              "      fill: #FFFFFF;\n",
              "    }\n",
              "  </style>\n",
              "\n",
              "      <script>\n",
              "        const buttonEl =\n",
              "          document.querySelector('#df-393a0be1-d451-4b00-b5d5-218c876eeec8 button.colab-df-convert');\n",
              "        buttonEl.style.display =\n",
              "          google.colab.kernel.accessAllowed ? 'block' : 'none';\n",
              "\n",
              "        async function convertToInteractive(key) {\n",
              "          const element = document.querySelector('#df-393a0be1-d451-4b00-b5d5-218c876eeec8');\n",
              "          const dataTable =\n",
              "            await google.colab.kernel.invokeFunction('convertToInteractive',\n",
              "                                                     [key], {});\n",
              "          if (!dataTable) return;\n",
              "\n",
              "          const docLinkHtml = 'Like what you see? Visit the ' +\n",
              "            '<a target=\"_blank\" href=https://colab.research.google.com/notebooks/data_table.ipynb>data table notebook</a>'\n",
              "            + ' to learn more about interactive tables.';\n",
              "          element.innerHTML = '';\n",
              "          dataTable['output_type'] = 'display_data';\n",
              "          await google.colab.output.renderOutput(dataTable, element);\n",
              "          const docLink = document.createElement('div');\n",
              "          docLink.innerHTML = docLinkHtml;\n",
              "          element.appendChild(docLink);\n",
              "        }\n",
              "      </script>\n",
              "    </div>\n",
              "  </div>\n",
              "  "
            ]
          },
          "metadata": {},
          "execution_count": 3
        }
      ]
    },
    {
      "cell_type": "markdown",
      "source": [
        "# Preparar el dataset"
      ],
      "metadata": {
        "id": "1uL-9TaaUc8j"
      }
    },
    {
      "cell_type": "code",
      "source": [
        "df_0 = df.copy()"
      ],
      "metadata": {
        "id": "z0LxIwzPYtzG"
      },
      "execution_count": 14,
      "outputs": []
    },
    {
      "cell_type": "markdown",
      "source": [
        "## Nombrar columnas"
      ],
      "metadata": {
        "id": "5aY8iC3MTOIR"
      }
    },
    {
      "cell_type": "code",
      "source": [
        "column_names = ['Elevation','Aspect','Slope','Horizontal_Distance_To_Hydrology','Vertical_Distance_To_Hydrology','Horizontal_Distance_To_Roadways','Hillshade_9am','Hillshade_Noon','Hillshade_3pm','Horizontal_Distance_To_Fire_Points',\n",
        "                'Wilderness_Area_1','Wilderness_Area_2', 'Wilderness_Area_3', 'Wilderness_Area_4',\n",
        "                'Soil_Type_1', 'Soil_Type_2', 'Soil_Type_3', 'Soil_Type_4', 'Soil_Type_5', 'Soil_Type_6', 'Soil_Type_7', 'Soil_Type_8', 'Soil_Type_9', 'Soil_Type_10', 'Soil_Type_11', 'Soil_Type_12', 'Soil_Type_13', 'Soil_Type_14', 'Soil_Type_15', 'Soil_Type_16', 'Soil_Type_17', 'Soil_Type_18', 'Soil_Type_19', 'Soil_Type_20',  \n",
        "                'Soil_Type_21', 'Soil_Type_22', 'Soil_Type_23', 'Soil_Type_24', 'Soil_Type_25', 'Soil_Type_26', 'Soil_Type_27', 'Soil_Type_28', 'Soil_Type_29', 'Soil_Type_30', 'Soil_Type_31', 'Soil_Type_32', 'Soil_Type_33', 'Soil_Type_34', 'Soil_Type_35', 'Soil_Type_36', 'Soil_Type_37', 'Soil_Type_38', 'Soil_Type_39', 'Soil_Type_40',\n",
        "                'Cover_Type']\n",
        "df_0.columns = column_names\n",
        "df_0.head()"
      ],
      "metadata": {
        "colab": {
          "base_uri": "https://localhost:8080/",
          "height": 299
        },
        "id": "JIkSoFbGTLSv",
        "outputId": "e7f5b930-e690-4b58-f177-d5d0b306bf51"
      },
      "execution_count": 15,
      "outputs": [
        {
          "output_type": "execute_result",
          "data": {
            "text/plain": [
              "   Elevation  Aspect  Slope  Horizontal_Distance_To_Hydrology  \\\n",
              "0       2590      56      2                               212   \n",
              "1       2804     139      9                               268   \n",
              "2       2785     155     18                               242   \n",
              "3       2595      45      2                               153   \n",
              "4       2579     132      6                               300   \n",
              "\n",
              "   Vertical_Distance_To_Hydrology  Horizontal_Distance_To_Roadways  \\\n",
              "0                              -6                              390   \n",
              "1                              65                             3180   \n",
              "2                             118                             3090   \n",
              "3                              -1                              391   \n",
              "4                             -15                               67   \n",
              "\n",
              "   Hillshade_9am  Hillshade_Noon  Hillshade_3pm  \\\n",
              "0            220             235            151   \n",
              "1            234             238            135   \n",
              "2            238             238            122   \n",
              "3            220             234            150   \n",
              "4            230             237            140   \n",
              "\n",
              "   Horizontal_Distance_To_Fire_Points  ...  Soil_Type_32  Soil_Type_33  \\\n",
              "0                                6225  ...             0             0   \n",
              "1                                6121  ...             0             0   \n",
              "2                                6211  ...             0             0   \n",
              "3                                6172  ...             0             0   \n",
              "4                                6031  ...             0             0   \n",
              "\n",
              "   Soil_Type_34  Soil_Type_35  Soil_Type_36  Soil_Type_37  Soil_Type_38  \\\n",
              "0             0             0             0             0             0   \n",
              "1             0             0             0             0             0   \n",
              "2             0             0             0             0             0   \n",
              "3             0             0             0             0             0   \n",
              "4             0             0             0             0             0   \n",
              "\n",
              "   Soil_Type_39  Soil_Type_40  Cover_Type  \n",
              "0             0             0           5  \n",
              "1             0             0           2  \n",
              "2             0             0           2  \n",
              "3             0             0           5  \n",
              "4             0             0           2  \n",
              "\n",
              "[5 rows x 55 columns]"
            ],
            "text/html": [
              "\n",
              "  <div id=\"df-85e8ad7d-eb48-4988-9760-95ab2d35ac55\">\n",
              "    <div class=\"colab-df-container\">\n",
              "      <div>\n",
              "<style scoped>\n",
              "    .dataframe tbody tr th:only-of-type {\n",
              "        vertical-align: middle;\n",
              "    }\n",
              "\n",
              "    .dataframe tbody tr th {\n",
              "        vertical-align: top;\n",
              "    }\n",
              "\n",
              "    .dataframe thead th {\n",
              "        text-align: right;\n",
              "    }\n",
              "</style>\n",
              "<table border=\"1\" class=\"dataframe\">\n",
              "  <thead>\n",
              "    <tr style=\"text-align: right;\">\n",
              "      <th></th>\n",
              "      <th>Elevation</th>\n",
              "      <th>Aspect</th>\n",
              "      <th>Slope</th>\n",
              "      <th>Horizontal_Distance_To_Hydrology</th>\n",
              "      <th>Vertical_Distance_To_Hydrology</th>\n",
              "      <th>Horizontal_Distance_To_Roadways</th>\n",
              "      <th>Hillshade_9am</th>\n",
              "      <th>Hillshade_Noon</th>\n",
              "      <th>Hillshade_3pm</th>\n",
              "      <th>Horizontal_Distance_To_Fire_Points</th>\n",
              "      <th>...</th>\n",
              "      <th>Soil_Type_32</th>\n",
              "      <th>Soil_Type_33</th>\n",
              "      <th>Soil_Type_34</th>\n",
              "      <th>Soil_Type_35</th>\n",
              "      <th>Soil_Type_36</th>\n",
              "      <th>Soil_Type_37</th>\n",
              "      <th>Soil_Type_38</th>\n",
              "      <th>Soil_Type_39</th>\n",
              "      <th>Soil_Type_40</th>\n",
              "      <th>Cover_Type</th>\n",
              "    </tr>\n",
              "  </thead>\n",
              "  <tbody>\n",
              "    <tr>\n",
              "      <th>0</th>\n",
              "      <td>2590</td>\n",
              "      <td>56</td>\n",
              "      <td>2</td>\n",
              "      <td>212</td>\n",
              "      <td>-6</td>\n",
              "      <td>390</td>\n",
              "      <td>220</td>\n",
              "      <td>235</td>\n",
              "      <td>151</td>\n",
              "      <td>6225</td>\n",
              "      <td>...</td>\n",
              "      <td>0</td>\n",
              "      <td>0</td>\n",
              "      <td>0</td>\n",
              "      <td>0</td>\n",
              "      <td>0</td>\n",
              "      <td>0</td>\n",
              "      <td>0</td>\n",
              "      <td>0</td>\n",
              "      <td>0</td>\n",
              "      <td>5</td>\n",
              "    </tr>\n",
              "    <tr>\n",
              "      <th>1</th>\n",
              "      <td>2804</td>\n",
              "      <td>139</td>\n",
              "      <td>9</td>\n",
              "      <td>268</td>\n",
              "      <td>65</td>\n",
              "      <td>3180</td>\n",
              "      <td>234</td>\n",
              "      <td>238</td>\n",
              "      <td>135</td>\n",
              "      <td>6121</td>\n",
              "      <td>...</td>\n",
              "      <td>0</td>\n",
              "      <td>0</td>\n",
              "      <td>0</td>\n",
              "      <td>0</td>\n",
              "      <td>0</td>\n",
              "      <td>0</td>\n",
              "      <td>0</td>\n",
              "      <td>0</td>\n",
              "      <td>0</td>\n",
              "      <td>2</td>\n",
              "    </tr>\n",
              "    <tr>\n",
              "      <th>2</th>\n",
              "      <td>2785</td>\n",
              "      <td>155</td>\n",
              "      <td>18</td>\n",
              "      <td>242</td>\n",
              "      <td>118</td>\n",
              "      <td>3090</td>\n",
              "      <td>238</td>\n",
              "      <td>238</td>\n",
              "      <td>122</td>\n",
              "      <td>6211</td>\n",
              "      <td>...</td>\n",
              "      <td>0</td>\n",
              "      <td>0</td>\n",
              "      <td>0</td>\n",
              "      <td>0</td>\n",
              "      <td>0</td>\n",
              "      <td>0</td>\n",
              "      <td>0</td>\n",
              "      <td>0</td>\n",
              "      <td>0</td>\n",
              "      <td>2</td>\n",
              "    </tr>\n",
              "    <tr>\n",
              "      <th>3</th>\n",
              "      <td>2595</td>\n",
              "      <td>45</td>\n",
              "      <td>2</td>\n",
              "      <td>153</td>\n",
              "      <td>-1</td>\n",
              "      <td>391</td>\n",
              "      <td>220</td>\n",
              "      <td>234</td>\n",
              "      <td>150</td>\n",
              "      <td>6172</td>\n",
              "      <td>...</td>\n",
              "      <td>0</td>\n",
              "      <td>0</td>\n",
              "      <td>0</td>\n",
              "      <td>0</td>\n",
              "      <td>0</td>\n",
              "      <td>0</td>\n",
              "      <td>0</td>\n",
              "      <td>0</td>\n",
              "      <td>0</td>\n",
              "      <td>5</td>\n",
              "    </tr>\n",
              "    <tr>\n",
              "      <th>4</th>\n",
              "      <td>2579</td>\n",
              "      <td>132</td>\n",
              "      <td>6</td>\n",
              "      <td>300</td>\n",
              "      <td>-15</td>\n",
              "      <td>67</td>\n",
              "      <td>230</td>\n",
              "      <td>237</td>\n",
              "      <td>140</td>\n",
              "      <td>6031</td>\n",
              "      <td>...</td>\n",
              "      <td>0</td>\n",
              "      <td>0</td>\n",
              "      <td>0</td>\n",
              "      <td>0</td>\n",
              "      <td>0</td>\n",
              "      <td>0</td>\n",
              "      <td>0</td>\n",
              "      <td>0</td>\n",
              "      <td>0</td>\n",
              "      <td>2</td>\n",
              "    </tr>\n",
              "  </tbody>\n",
              "</table>\n",
              "<p>5 rows × 55 columns</p>\n",
              "</div>\n",
              "      <button class=\"colab-df-convert\" onclick=\"convertToInteractive('df-85e8ad7d-eb48-4988-9760-95ab2d35ac55')\"\n",
              "              title=\"Convert this dataframe to an interactive table.\"\n",
              "              style=\"display:none;\">\n",
              "        \n",
              "  <svg xmlns=\"http://www.w3.org/2000/svg\" height=\"24px\"viewBox=\"0 0 24 24\"\n",
              "       width=\"24px\">\n",
              "    <path d=\"M0 0h24v24H0V0z\" fill=\"none\"/>\n",
              "    <path d=\"M18.56 5.44l.94 2.06.94-2.06 2.06-.94-2.06-.94-.94-2.06-.94 2.06-2.06.94zm-11 1L8.5 8.5l.94-2.06 2.06-.94-2.06-.94L8.5 2.5l-.94 2.06-2.06.94zm10 10l.94 2.06.94-2.06 2.06-.94-2.06-.94-.94-2.06-.94 2.06-2.06.94z\"/><path d=\"M17.41 7.96l-1.37-1.37c-.4-.4-.92-.59-1.43-.59-.52 0-1.04.2-1.43.59L10.3 9.45l-7.72 7.72c-.78.78-.78 2.05 0 2.83L4 21.41c.39.39.9.59 1.41.59.51 0 1.02-.2 1.41-.59l7.78-7.78 2.81-2.81c.8-.78.8-2.07 0-2.86zM5.41 20L4 18.59l7.72-7.72 1.47 1.35L5.41 20z\"/>\n",
              "  </svg>\n",
              "      </button>\n",
              "      \n",
              "  <style>\n",
              "    .colab-df-container {\n",
              "      display:flex;\n",
              "      flex-wrap:wrap;\n",
              "      gap: 12px;\n",
              "    }\n",
              "\n",
              "    .colab-df-convert {\n",
              "      background-color: #E8F0FE;\n",
              "      border: none;\n",
              "      border-radius: 50%;\n",
              "      cursor: pointer;\n",
              "      display: none;\n",
              "      fill: #1967D2;\n",
              "      height: 32px;\n",
              "      padding: 0 0 0 0;\n",
              "      width: 32px;\n",
              "    }\n",
              "\n",
              "    .colab-df-convert:hover {\n",
              "      background-color: #E2EBFA;\n",
              "      box-shadow: 0px 1px 2px rgba(60, 64, 67, 0.3), 0px 1px 3px 1px rgba(60, 64, 67, 0.15);\n",
              "      fill: #174EA6;\n",
              "    }\n",
              "\n",
              "    [theme=dark] .colab-df-convert {\n",
              "      background-color: #3B4455;\n",
              "      fill: #D2E3FC;\n",
              "    }\n",
              "\n",
              "    [theme=dark] .colab-df-convert:hover {\n",
              "      background-color: #434B5C;\n",
              "      box-shadow: 0px 1px 3px 1px rgba(0, 0, 0, 0.15);\n",
              "      filter: drop-shadow(0px 1px 2px rgba(0, 0, 0, 0.3));\n",
              "      fill: #FFFFFF;\n",
              "    }\n",
              "  </style>\n",
              "\n",
              "      <script>\n",
              "        const buttonEl =\n",
              "          document.querySelector('#df-85e8ad7d-eb48-4988-9760-95ab2d35ac55 button.colab-df-convert');\n",
              "        buttonEl.style.display =\n",
              "          google.colab.kernel.accessAllowed ? 'block' : 'none';\n",
              "\n",
              "        async function convertToInteractive(key) {\n",
              "          const element = document.querySelector('#df-85e8ad7d-eb48-4988-9760-95ab2d35ac55');\n",
              "          const dataTable =\n",
              "            await google.colab.kernel.invokeFunction('convertToInteractive',\n",
              "                                                     [key], {});\n",
              "          if (!dataTable) return;\n",
              "\n",
              "          const docLinkHtml = 'Like what you see? Visit the ' +\n",
              "            '<a target=\"_blank\" href=https://colab.research.google.com/notebooks/data_table.ipynb>data table notebook</a>'\n",
              "            + ' to learn more about interactive tables.';\n",
              "          element.innerHTML = '';\n",
              "          dataTable['output_type'] = 'display_data';\n",
              "          await google.colab.output.renderOutput(dataTable, element);\n",
              "          const docLink = document.createElement('div');\n",
              "          docLink.innerHTML = docLinkHtml;\n",
              "          element.appendChild(docLink);\n",
              "        }\n",
              "      </script>\n",
              "    </div>\n",
              "  </div>\n",
              "  "
            ]
          },
          "metadata": {},
          "execution_count": 15
        }
      ]
    },
    {
      "cell_type": "markdown",
      "source": [
        "## Datos nulos"
      ],
      "metadata": {
        "id": "af6sKf65UEMU"
      }
    },
    {
      "cell_type": "code",
      "source": [
        "nulos = df_0.isna().sum()\n",
        "nulos"
      ],
      "metadata": {
        "colab": {
          "base_uri": "https://localhost:8080/"
        },
        "id": "2RknYlUgT5bX",
        "outputId": "dac33a4f-f678-4ebe-b567-e288602aaf84"
      },
      "execution_count": 16,
      "outputs": [
        {
          "output_type": "execute_result",
          "data": {
            "text/plain": [
              "Elevation                             0\n",
              "Aspect                                0\n",
              "Slope                                 0\n",
              "Horizontal_Distance_To_Hydrology      0\n",
              "Vertical_Distance_To_Hydrology        0\n",
              "Horizontal_Distance_To_Roadways       0\n",
              "Hillshade_9am                         0\n",
              "Hillshade_Noon                        0\n",
              "Hillshade_3pm                         0\n",
              "Horizontal_Distance_To_Fire_Points    0\n",
              "Wilderness_Area_1                     0\n",
              "Wilderness_Area_2                     0\n",
              "Wilderness_Area_3                     0\n",
              "Wilderness_Area_4                     0\n",
              "Soil_Type_1                           0\n",
              "Soil_Type_2                           0\n",
              "Soil_Type_3                           0\n",
              "Soil_Type_4                           0\n",
              "Soil_Type_5                           0\n",
              "Soil_Type_6                           0\n",
              "Soil_Type_7                           0\n",
              "Soil_Type_8                           0\n",
              "Soil_Type_9                           0\n",
              "Soil_Type_10                          0\n",
              "Soil_Type_11                          0\n",
              "Soil_Type_12                          0\n",
              "Soil_Type_13                          0\n",
              "Soil_Type_14                          0\n",
              "Soil_Type_15                          0\n",
              "Soil_Type_16                          0\n",
              "Soil_Type_17                          0\n",
              "Soil_Type_18                          0\n",
              "Soil_Type_19                          0\n",
              "Soil_Type_20                          0\n",
              "Soil_Type_21                          0\n",
              "Soil_Type_22                          0\n",
              "Soil_Type_23                          0\n",
              "Soil_Type_24                          0\n",
              "Soil_Type_25                          0\n",
              "Soil_Type_26                          0\n",
              "Soil_Type_27                          0\n",
              "Soil_Type_28                          0\n",
              "Soil_Type_29                          0\n",
              "Soil_Type_30                          0\n",
              "Soil_Type_31                          0\n",
              "Soil_Type_32                          0\n",
              "Soil_Type_33                          0\n",
              "Soil_Type_34                          0\n",
              "Soil_Type_35                          0\n",
              "Soil_Type_36                          0\n",
              "Soil_Type_37                          0\n",
              "Soil_Type_38                          0\n",
              "Soil_Type_39                          0\n",
              "Soil_Type_40                          0\n",
              "Cover_Type                            0\n",
              "dtype: int64"
            ]
          },
          "metadata": {},
          "execution_count": 16
        }
      ]
    },
    {
      "cell_type": "markdown",
      "source": [
        "## Eliminar duplicados"
      ],
      "metadata": {
        "id": "r9g8LhAeUrpr"
      }
    },
    {
      "cell_type": "code",
      "source": [
        "duplicate_sum = df_0.duplicated().sum()\n",
        "if duplicate_sum > 0:\n",
        "    print(f'Total de filas duplicadas: {duplicate_sum}')\n",
        "else:\n",
        "    print('No se encuentran filas duplicadas')"
      ],
      "metadata": {
        "colab": {
          "base_uri": "https://localhost:8080/"
        },
        "id": "Ujn9Xfr9UrBL",
        "outputId": "f9d7aee8-c35a-4c37-cd48-10ea9629d037"
      },
      "execution_count": 17,
      "outputs": [
        {
          "output_type": "stream",
          "name": "stdout",
          "text": [
            "No se encuentran filas duplicadas\n"
          ]
        }
      ]
    },
    {
      "cell_type": "markdown",
      "source": [
        "## Eliminar columnas constantes o de baja varianza"
      ],
      "metadata": {
        "id": "PZ5FGod2VBVG"
      }
    },
    {
      "cell_type": "code",
      "source": [
        "cte_column = []\n",
        "for col in df_0:\n",
        "  if df_0[col].std()==0: # Si la desviación estándar es 0, entonces es una constante\n",
        "    cte_column.append('{}'.format(col))\n",
        "  else:\n",
        "    pass\n",
        "df_0.drop(cte_column, axis=1, inplace=True)\n",
        "print('Tamaño del dataset: ', df_0.shape)\n",
        "print('Columnas constantes: ', len(cte_column))"
      ],
      "metadata": {
        "colab": {
          "base_uri": "https://localhost:8080/"
        },
        "id": "aHKuOwxRVBgs",
        "outputId": "bd3813da-880e-45e2-e637-1a510c528323"
      },
      "execution_count": 18,
      "outputs": [
        {
          "output_type": "stream",
          "name": "stdout",
          "text": [
            "Tamaño del dataset:  (581011, 55)\n",
            "Columnas constantes:  0\n"
          ]
        }
      ]
    },
    {
      "cell_type": "markdown",
      "source": [
        "# EJERCICIO 1\n",
        "Para conseguir un dataset con una dimensión reducidad, aplica la técnica de **Selección de variables basada en árbol de decisión** mediante las importancias de cada variable (Decision Trees Importances):\n",
        "\n",
        "- Filtra el tablón para quedarnos solamente con las variables que aglutinan hasta el 95% de la información que se requiere para estimar la variable objetivo.\n",
        "- random_state=100"
      ],
      "metadata": {
        "id": "fq7uLj8mVJ7z"
      }
    },
    {
      "cell_type": "code",
      "source": [
        "df_1 = df_0.copy()\n",
        "from sklearn.tree import DecisionTreeClassifier"
      ],
      "metadata": {
        "id": "xcyzc3ekVPi8"
      },
      "execution_count": 19,
      "outputs": []
    },
    {
      "cell_type": "markdown",
      "source": [
        "Seleccionar los datos objetivo"
      ],
      "metadata": {
        "id": "Nww7IRiXb1oc"
      }
    },
    {
      "cell_type": "code",
      "source": [
        "X = df_1.drop('Cover_Type', axis=1)\n",
        "y = df_1['Cover_Type']\n",
        "\n",
        "\n",
        "# Crear un clasificador de árbol de decisión\n",
        "tree = DecisionTreeClassifier(random_state=100)\n",
        "tree.fit(X, y)\n"
      ],
      "metadata": {
        "colab": {
          "base_uri": "https://localhost:8080/",
          "height": 74
        },
        "id": "1n3meGiVYfmv",
        "outputId": "e9443b5f-622e-4d03-818d-aa377c0208fc"
      },
      "execution_count": 22,
      "outputs": [
        {
          "output_type": "execute_result",
          "data": {
            "text/plain": [
              "DecisionTreeClassifier(random_state=100)"
            ],
            "text/html": [
              "<style>#sk-container-id-1 {color: black;background-color: white;}#sk-container-id-1 pre{padding: 0;}#sk-container-id-1 div.sk-toggleable {background-color: white;}#sk-container-id-1 label.sk-toggleable__label {cursor: pointer;display: block;width: 100%;margin-bottom: 0;padding: 0.3em;box-sizing: border-box;text-align: center;}#sk-container-id-1 label.sk-toggleable__label-arrow:before {content: \"▸\";float: left;margin-right: 0.25em;color: #696969;}#sk-container-id-1 label.sk-toggleable__label-arrow:hover:before {color: black;}#sk-container-id-1 div.sk-estimator:hover label.sk-toggleable__label-arrow:before {color: black;}#sk-container-id-1 div.sk-toggleable__content {max-height: 0;max-width: 0;overflow: hidden;text-align: left;background-color: #f0f8ff;}#sk-container-id-1 div.sk-toggleable__content pre {margin: 0.2em;color: black;border-radius: 0.25em;background-color: #f0f8ff;}#sk-container-id-1 input.sk-toggleable__control:checked~div.sk-toggleable__content {max-height: 200px;max-width: 100%;overflow: auto;}#sk-container-id-1 input.sk-toggleable__control:checked~label.sk-toggleable__label-arrow:before {content: \"▾\";}#sk-container-id-1 div.sk-estimator input.sk-toggleable__control:checked~label.sk-toggleable__label {background-color: #d4ebff;}#sk-container-id-1 div.sk-label input.sk-toggleable__control:checked~label.sk-toggleable__label {background-color: #d4ebff;}#sk-container-id-1 input.sk-hidden--visually {border: 0;clip: rect(1px 1px 1px 1px);clip: rect(1px, 1px, 1px, 1px);height: 1px;margin: -1px;overflow: hidden;padding: 0;position: absolute;width: 1px;}#sk-container-id-1 div.sk-estimator {font-family: monospace;background-color: #f0f8ff;border: 1px dotted black;border-radius: 0.25em;box-sizing: border-box;margin-bottom: 0.5em;}#sk-container-id-1 div.sk-estimator:hover {background-color: #d4ebff;}#sk-container-id-1 div.sk-parallel-item::after {content: \"\";width: 100%;border-bottom: 1px solid gray;flex-grow: 1;}#sk-container-id-1 div.sk-label:hover label.sk-toggleable__label {background-color: #d4ebff;}#sk-container-id-1 div.sk-serial::before {content: \"\";position: absolute;border-left: 1px solid gray;box-sizing: border-box;top: 0;bottom: 0;left: 50%;z-index: 0;}#sk-container-id-1 div.sk-serial {display: flex;flex-direction: column;align-items: center;background-color: white;padding-right: 0.2em;padding-left: 0.2em;position: relative;}#sk-container-id-1 div.sk-item {position: relative;z-index: 1;}#sk-container-id-1 div.sk-parallel {display: flex;align-items: stretch;justify-content: center;background-color: white;position: relative;}#sk-container-id-1 div.sk-item::before, #sk-container-id-1 div.sk-parallel-item::before {content: \"\";position: absolute;border-left: 1px solid gray;box-sizing: border-box;top: 0;bottom: 0;left: 50%;z-index: -1;}#sk-container-id-1 div.sk-parallel-item {display: flex;flex-direction: column;z-index: 1;position: relative;background-color: white;}#sk-container-id-1 div.sk-parallel-item:first-child::after {align-self: flex-end;width: 50%;}#sk-container-id-1 div.sk-parallel-item:last-child::after {align-self: flex-start;width: 50%;}#sk-container-id-1 div.sk-parallel-item:only-child::after {width: 0;}#sk-container-id-1 div.sk-dashed-wrapped {border: 1px dashed gray;margin: 0 0.4em 0.5em 0.4em;box-sizing: border-box;padding-bottom: 0.4em;background-color: white;}#sk-container-id-1 div.sk-label label {font-family: monospace;font-weight: bold;display: inline-block;line-height: 1.2em;}#sk-container-id-1 div.sk-label-container {text-align: center;}#sk-container-id-1 div.sk-container {/* jupyter's `normalize.less` sets `[hidden] { display: none; }` but bootstrap.min.css set `[hidden] { display: none !important; }` so we also need the `!important` here to be able to override the default hidden behavior on the sphinx rendered scikit-learn.org. See: https://github.com/scikit-learn/scikit-learn/issues/21755 */display: inline-block !important;position: relative;}#sk-container-id-1 div.sk-text-repr-fallback {display: none;}</style><div id=\"sk-container-id-1\" class=\"sk-top-container\"><div class=\"sk-text-repr-fallback\"><pre>DecisionTreeClassifier(random_state=100)</pre><b>In a Jupyter environment, please rerun this cell to show the HTML representation or trust the notebook. <br />On GitHub, the HTML representation is unable to render, please try loading this page with nbviewer.org.</b></div><div class=\"sk-container\" hidden><div class=\"sk-item\"><div class=\"sk-estimator sk-toggleable\"><input class=\"sk-toggleable__control sk-hidden--visually\" id=\"sk-estimator-id-1\" type=\"checkbox\" checked><label for=\"sk-estimator-id-1\" class=\"sk-toggleable__label sk-toggleable__label-arrow\">DecisionTreeClassifier</label><div class=\"sk-toggleable__content\"><pre>DecisionTreeClassifier(random_state=100)</pre></div></div></div></div></div>"
            ]
          },
          "metadata": {},
          "execution_count": 22
        }
      ]
    },
    {
      "cell_type": "markdown",
      "source": [
        "Creamos un dataframe con la importancia de cada variable, y lo aordenamos por importancia cumulada, quedándonos sólo con los que estén por encima del 95%."
      ],
      "metadata": {
        "id": "0DjchM8Mb7Hc"
      }
    },
    {
      "cell_type": "code",
      "source": [
        "importancias = tree.feature_importances_\n",
        "df_imp = pd.DataFrame({'Variable': X.columns, 'Importancia': importancias})\n",
        "df_imp = df_imp.sort_values(by='Importancia', ascending=False)\n",
        "df_imp['Imp_Acumulada'] = df_imp['Importancia'].cumsum()\n",
        "\n",
        "variables_importantes = df_imp[df_imp['Imp_Acumulada'] <= 0.95]['Variable']\n",
        "variables_importantes"
      ],
      "metadata": {
        "colab": {
          "base_uri": "https://localhost:8080/"
        },
        "id": "XFpYYMmTclVh",
        "outputId": "f7638847-da96-428f-df2c-ec869ec80d5e"
      },
      "execution_count": 28,
      "outputs": [
        {
          "output_type": "execute_result",
          "data": {
            "text/plain": [
              "0                              Elevation\n",
              "5        Horizontal_Distance_To_Roadways\n",
              "9     Horizontal_Distance_To_Fire_Points\n",
              "3       Horizontal_Distance_To_Hydrology\n",
              "4         Vertical_Distance_To_Hydrology\n",
              "7                         Hillshade_Noon\n",
              "6                          Hillshade_9am\n",
              "1                                 Aspect\n",
              "8                          Hillshade_3pm\n",
              "2                                  Slope\n",
              "12                     Wilderness_Area_3\n",
              "45                          Soil_Type_32\n",
              "17                           Soil_Type_4\n",
              "15                           Soil_Type_2\n",
              "36                          Soil_Type_23\n",
              "10                     Wilderness_Area_1\n",
              "35                          Soil_Type_22\n",
              "42                          Soil_Type_29\n",
              "Name: Variable, dtype: object"
            ]
          },
          "metadata": {},
          "execution_count": 28
        }
      ]
    },
    {
      "cell_type": "code",
      "source": [
        "print('Número de variables relevantes:', len(variables_importantes))"
      ],
      "metadata": {
        "colab": {
          "base_uri": "https://localhost:8080/"
        },
        "id": "8ZV3loLFfw_x",
        "outputId": "4bc506a1-a7d6-40c7-93b5-044cc66a9746"
      },
      "execution_count": 30,
      "outputs": [
        {
          "output_type": "stream",
          "name": "stdout",
          "text": [
            "Número de variables relevantes: 18\n"
          ]
        }
      ]
    },
    {
      "cell_type": "code",
      "source": [
        "# dejamos sólo las variables importantes en el dataframe\n",
        "variables_importantes = [v for v in variables_importantes if v in df_1.columns]\n",
        "variables_importantes.append('Cover_Type') #añadimos la variable objetivo también\n",
        "df_1_reducido = df_1[variables_importantes]\n",
        "df_1_reducido.head()"
      ],
      "metadata": {
        "colab": {
          "base_uri": "https://localhost:8080/",
          "height": 270
        },
        "id": "sQRGiUaldNCs",
        "outputId": "30620581-5f25-45fa-953c-14429e72da1f"
      },
      "execution_count": 32,
      "outputs": [
        {
          "output_type": "execute_result",
          "data": {
            "text/plain": [
              "   Elevation  Horizontal_Distance_To_Roadways  \\\n",
              "0       2590                              390   \n",
              "1       2804                             3180   \n",
              "2       2785                             3090   \n",
              "3       2595                              391   \n",
              "4       2579                               67   \n",
              "\n",
              "   Horizontal_Distance_To_Fire_Points  Horizontal_Distance_To_Hydrology  \\\n",
              "0                                6225                               212   \n",
              "1                                6121                               268   \n",
              "2                                6211                               242   \n",
              "3                                6172                               153   \n",
              "4                                6031                               300   \n",
              "\n",
              "   Vertical_Distance_To_Hydrology  Hillshade_Noon  Hillshade_9am  Aspect  \\\n",
              "0                              -6             235            220      56   \n",
              "1                              65             238            234     139   \n",
              "2                             118             238            238     155   \n",
              "3                              -1             234            220      45   \n",
              "4                             -15             237            230     132   \n",
              "\n",
              "   Hillshade_3pm  Slope  Wilderness_Area_3  Soil_Type_32  Soil_Type_4  \\\n",
              "0            151      2                  0             0            0   \n",
              "1            135      9                  0             0            0   \n",
              "2            122     18                  0             0            0   \n",
              "3            150      2                  0             0            0   \n",
              "4            140      6                  0             0            0   \n",
              "\n",
              "   Soil_Type_2  Soil_Type_23  Wilderness_Area_1  Soil_Type_22  Soil_Type_29  \\\n",
              "0            0             0                  1             0             1   \n",
              "1            0             0                  1             0             0   \n",
              "2            0             0                  1             0             0   \n",
              "3            0             0                  1             0             1   \n",
              "4            0             0                  1             0             1   \n",
              "\n",
              "   Cover_Type  \n",
              "0           5  \n",
              "1           2  \n",
              "2           2  \n",
              "3           5  \n",
              "4           2  "
            ],
            "text/html": [
              "\n",
              "  <div id=\"df-17d94366-0f60-4d10-944f-4da18713b076\">\n",
              "    <div class=\"colab-df-container\">\n",
              "      <div>\n",
              "<style scoped>\n",
              "    .dataframe tbody tr th:only-of-type {\n",
              "        vertical-align: middle;\n",
              "    }\n",
              "\n",
              "    .dataframe tbody tr th {\n",
              "        vertical-align: top;\n",
              "    }\n",
              "\n",
              "    .dataframe thead th {\n",
              "        text-align: right;\n",
              "    }\n",
              "</style>\n",
              "<table border=\"1\" class=\"dataframe\">\n",
              "  <thead>\n",
              "    <tr style=\"text-align: right;\">\n",
              "      <th></th>\n",
              "      <th>Elevation</th>\n",
              "      <th>Horizontal_Distance_To_Roadways</th>\n",
              "      <th>Horizontal_Distance_To_Fire_Points</th>\n",
              "      <th>Horizontal_Distance_To_Hydrology</th>\n",
              "      <th>Vertical_Distance_To_Hydrology</th>\n",
              "      <th>Hillshade_Noon</th>\n",
              "      <th>Hillshade_9am</th>\n",
              "      <th>Aspect</th>\n",
              "      <th>Hillshade_3pm</th>\n",
              "      <th>Slope</th>\n",
              "      <th>Wilderness_Area_3</th>\n",
              "      <th>Soil_Type_32</th>\n",
              "      <th>Soil_Type_4</th>\n",
              "      <th>Soil_Type_2</th>\n",
              "      <th>Soil_Type_23</th>\n",
              "      <th>Wilderness_Area_1</th>\n",
              "      <th>Soil_Type_22</th>\n",
              "      <th>Soil_Type_29</th>\n",
              "      <th>Cover_Type</th>\n",
              "    </tr>\n",
              "  </thead>\n",
              "  <tbody>\n",
              "    <tr>\n",
              "      <th>0</th>\n",
              "      <td>2590</td>\n",
              "      <td>390</td>\n",
              "      <td>6225</td>\n",
              "      <td>212</td>\n",
              "      <td>-6</td>\n",
              "      <td>235</td>\n",
              "      <td>220</td>\n",
              "      <td>56</td>\n",
              "      <td>151</td>\n",
              "      <td>2</td>\n",
              "      <td>0</td>\n",
              "      <td>0</td>\n",
              "      <td>0</td>\n",
              "      <td>0</td>\n",
              "      <td>0</td>\n",
              "      <td>1</td>\n",
              "      <td>0</td>\n",
              "      <td>1</td>\n",
              "      <td>5</td>\n",
              "    </tr>\n",
              "    <tr>\n",
              "      <th>1</th>\n",
              "      <td>2804</td>\n",
              "      <td>3180</td>\n",
              "      <td>6121</td>\n",
              "      <td>268</td>\n",
              "      <td>65</td>\n",
              "      <td>238</td>\n",
              "      <td>234</td>\n",
              "      <td>139</td>\n",
              "      <td>135</td>\n",
              "      <td>9</td>\n",
              "      <td>0</td>\n",
              "      <td>0</td>\n",
              "      <td>0</td>\n",
              "      <td>0</td>\n",
              "      <td>0</td>\n",
              "      <td>1</td>\n",
              "      <td>0</td>\n",
              "      <td>0</td>\n",
              "      <td>2</td>\n",
              "    </tr>\n",
              "    <tr>\n",
              "      <th>2</th>\n",
              "      <td>2785</td>\n",
              "      <td>3090</td>\n",
              "      <td>6211</td>\n",
              "      <td>242</td>\n",
              "      <td>118</td>\n",
              "      <td>238</td>\n",
              "      <td>238</td>\n",
              "      <td>155</td>\n",
              "      <td>122</td>\n",
              "      <td>18</td>\n",
              "      <td>0</td>\n",
              "      <td>0</td>\n",
              "      <td>0</td>\n",
              "      <td>0</td>\n",
              "      <td>0</td>\n",
              "      <td>1</td>\n",
              "      <td>0</td>\n",
              "      <td>0</td>\n",
              "      <td>2</td>\n",
              "    </tr>\n",
              "    <tr>\n",
              "      <th>3</th>\n",
              "      <td>2595</td>\n",
              "      <td>391</td>\n",
              "      <td>6172</td>\n",
              "      <td>153</td>\n",
              "      <td>-1</td>\n",
              "      <td>234</td>\n",
              "      <td>220</td>\n",
              "      <td>45</td>\n",
              "      <td>150</td>\n",
              "      <td>2</td>\n",
              "      <td>0</td>\n",
              "      <td>0</td>\n",
              "      <td>0</td>\n",
              "      <td>0</td>\n",
              "      <td>0</td>\n",
              "      <td>1</td>\n",
              "      <td>0</td>\n",
              "      <td>1</td>\n",
              "      <td>5</td>\n",
              "    </tr>\n",
              "    <tr>\n",
              "      <th>4</th>\n",
              "      <td>2579</td>\n",
              "      <td>67</td>\n",
              "      <td>6031</td>\n",
              "      <td>300</td>\n",
              "      <td>-15</td>\n",
              "      <td>237</td>\n",
              "      <td>230</td>\n",
              "      <td>132</td>\n",
              "      <td>140</td>\n",
              "      <td>6</td>\n",
              "      <td>0</td>\n",
              "      <td>0</td>\n",
              "      <td>0</td>\n",
              "      <td>0</td>\n",
              "      <td>0</td>\n",
              "      <td>1</td>\n",
              "      <td>0</td>\n",
              "      <td>1</td>\n",
              "      <td>2</td>\n",
              "    </tr>\n",
              "  </tbody>\n",
              "</table>\n",
              "</div>\n",
              "      <button class=\"colab-df-convert\" onclick=\"convertToInteractive('df-17d94366-0f60-4d10-944f-4da18713b076')\"\n",
              "              title=\"Convert this dataframe to an interactive table.\"\n",
              "              style=\"display:none;\">\n",
              "        \n",
              "  <svg xmlns=\"http://www.w3.org/2000/svg\" height=\"24px\"viewBox=\"0 0 24 24\"\n",
              "       width=\"24px\">\n",
              "    <path d=\"M0 0h24v24H0V0z\" fill=\"none\"/>\n",
              "    <path d=\"M18.56 5.44l.94 2.06.94-2.06 2.06-.94-2.06-.94-.94-2.06-.94 2.06-2.06.94zm-11 1L8.5 8.5l.94-2.06 2.06-.94-2.06-.94L8.5 2.5l-.94 2.06-2.06.94zm10 10l.94 2.06.94-2.06 2.06-.94-2.06-.94-.94-2.06-.94 2.06-2.06.94z\"/><path d=\"M17.41 7.96l-1.37-1.37c-.4-.4-.92-.59-1.43-.59-.52 0-1.04.2-1.43.59L10.3 9.45l-7.72 7.72c-.78.78-.78 2.05 0 2.83L4 21.41c.39.39.9.59 1.41.59.51 0 1.02-.2 1.41-.59l7.78-7.78 2.81-2.81c.8-.78.8-2.07 0-2.86zM5.41 20L4 18.59l7.72-7.72 1.47 1.35L5.41 20z\"/>\n",
              "  </svg>\n",
              "      </button>\n",
              "      \n",
              "  <style>\n",
              "    .colab-df-container {\n",
              "      display:flex;\n",
              "      flex-wrap:wrap;\n",
              "      gap: 12px;\n",
              "    }\n",
              "\n",
              "    .colab-df-convert {\n",
              "      background-color: #E8F0FE;\n",
              "      border: none;\n",
              "      border-radius: 50%;\n",
              "      cursor: pointer;\n",
              "      display: none;\n",
              "      fill: #1967D2;\n",
              "      height: 32px;\n",
              "      padding: 0 0 0 0;\n",
              "      width: 32px;\n",
              "    }\n",
              "\n",
              "    .colab-df-convert:hover {\n",
              "      background-color: #E2EBFA;\n",
              "      box-shadow: 0px 1px 2px rgba(60, 64, 67, 0.3), 0px 1px 3px 1px rgba(60, 64, 67, 0.15);\n",
              "      fill: #174EA6;\n",
              "    }\n",
              "\n",
              "    [theme=dark] .colab-df-convert {\n",
              "      background-color: #3B4455;\n",
              "      fill: #D2E3FC;\n",
              "    }\n",
              "\n",
              "    [theme=dark] .colab-df-convert:hover {\n",
              "      background-color: #434B5C;\n",
              "      box-shadow: 0px 1px 3px 1px rgba(0, 0, 0, 0.15);\n",
              "      filter: drop-shadow(0px 1px 2px rgba(0, 0, 0, 0.3));\n",
              "      fill: #FFFFFF;\n",
              "    }\n",
              "  </style>\n",
              "\n",
              "      <script>\n",
              "        const buttonEl =\n",
              "          document.querySelector('#df-17d94366-0f60-4d10-944f-4da18713b076 button.colab-df-convert');\n",
              "        buttonEl.style.display =\n",
              "          google.colab.kernel.accessAllowed ? 'block' : 'none';\n",
              "\n",
              "        async function convertToInteractive(key) {\n",
              "          const element = document.querySelector('#df-17d94366-0f60-4d10-944f-4da18713b076');\n",
              "          const dataTable =\n",
              "            await google.colab.kernel.invokeFunction('convertToInteractive',\n",
              "                                                     [key], {});\n",
              "          if (!dataTable) return;\n",
              "\n",
              "          const docLinkHtml = 'Like what you see? Visit the ' +\n",
              "            '<a target=\"_blank\" href=https://colab.research.google.com/notebooks/data_table.ipynb>data table notebook</a>'\n",
              "            + ' to learn more about interactive tables.';\n",
              "          element.innerHTML = '';\n",
              "          dataTable['output_type'] = 'display_data';\n",
              "          await google.colab.output.renderOutput(dataTable, element);\n",
              "          const docLink = document.createElement('div');\n",
              "          docLink.innerHTML = docLinkHtml;\n",
              "          element.appendChild(docLink);\n",
              "        }\n",
              "      </script>\n",
              "    </div>\n",
              "  </div>\n",
              "  "
            ]
          },
          "metadata": {},
          "execution_count": 32
        }
      ]
    },
    {
      "cell_type": "markdown",
      "source": [
        "# EJERCICIO 2"
      ],
      "metadata": {
        "id": "7qBsg1xygvnQ"
      }
    },
    {
      "cell_type": "code",
      "source": [
        "df_2 = df_1_reducido.copy()\n",
        "import matplotlib.pyplot as plt\n",
        "import seaborn as sns\n",
        "print('Done')"
      ],
      "metadata": {
        "colab": {
          "base_uri": "https://localhost:8080/"
        },
        "id": "VATkrPttgz2I",
        "outputId": "7eccf520-1803-462e-eebb-814853fc20ba"
      },
      "execution_count": 33,
      "outputs": [
        {
          "output_type": "stream",
          "name": "stdout",
          "text": [
            "Done\n"
          ]
        }
      ]
    },
    {
      "cell_type": "markdown",
      "source": [
        "## 2.1 Gráfica\n",
        "Genera una gráfica para visualizar la distribución de las variables del datset en conjunto. Analiza dicha gráfica y explica si hay una necesidad de normalizar los datos.\n",
        "\n"
      ],
      "metadata": {
        "id": "U7U0W4ssiG4P"
      }
    },
    {
      "cell_type": "code",
      "source": [
        "plt.figure(figsize=(16,10))\n",
        "sns.boxplot(data=df_2, orient=\"h\")\n",
        "plt.show()"
      ],
      "metadata": {
        "colab": {
          "base_uri": "https://localhost:8080/",
          "height": 479
        },
        "id": "P7jtj-OfiAIg",
        "outputId": "97282162-b6f5-4147-c269-f00f55e5807e"
      },
      "execution_count": 34,
      "outputs": [
        {
          "output_type": "display_data",
          "data": {
            "text/plain": [
              "<Figure size 1600x1000 with 1 Axes>"
            ],
            "image/png": "[encoded data removed]"
          },
          "metadata": {}
        }
      ]
    },
    {
      "cell_type": "markdown",
      "source": [
        "Sería recomienda normalizar los datos porque las variables tienen escalas muy diferentes."
      ],
      "metadata": {
        "id": "ytlNI0nEjZfI"
      }
    },
    {
      "cell_type": "markdown",
      "source": [
        "## 2.2 Normalizar"
      ],
      "metadata": {
        "id": "kZUnfEZljjG0"
      }
    },
    {
      "cell_type": "markdown",
      "source": [
        "Antes de normalizar, vamos a deshacernos de las variables no continuas (Wilderness_Area y Soil_Type), y a quitar, momentáneamente la variable objetivo Cover_Type."
      ],
      "metadata": {
        "id": "v2gpyGVeqFax"
      }
    },
    {
      "cell_type": "code",
      "source": [
        "df_2.columns"
      ],
      "metadata": {
        "colab": {
          "base_uri": "https://localhost:8080/"
        },
        "id": "MDG2QPOGpSWt",
        "outputId": "d3aefef5-addb-460f-dd8b-9356cbb35830"
      },
      "execution_count": 47,
      "outputs": [
        {
          "output_type": "execute_result",
          "data": {
            "text/plain": [
              "Index(['Elevation', 'Horizontal_Distance_To_Roadways',\n",
              "       'Horizontal_Distance_To_Fire_Points',\n",
              "       'Horizontal_Distance_To_Hydrology', 'Vertical_Distance_To_Hydrology',\n",
              "       'Hillshade_Noon', 'Hillshade_9am', 'Aspect', 'Hillshade_3pm', 'Slope',\n",
              "       'Wilderness_Area_3', 'Soil_Type_32', 'Soil_Type_4', 'Soil_Type_2',\n",
              "       'Soil_Type_23', 'Wilderness_Area_1', 'Soil_Type_22', 'Soil_Type_29',\n",
              "       'Cover_Type'],\n",
              "      dtype='object')"
            ]
          },
          "metadata": {},
          "execution_count": 47
        }
      ]
    },
    {
      "cell_type": "code",
      "source": [
        "# quitar variables dicretas\n",
        "df_2_cont = df_2.drop(['Wilderness_Area_3', 'Soil_Type_32', 'Soil_Type_4', 'Soil_Type_2', 'Soil_Type_23', 'Wilderness_Area_1', 'Soil_Type_22', 'Soil_Type_29','Cover_Type'], axis=1)\n",
        "df_2_cont.head()"
      ],
      "metadata": {
        "colab": {
          "base_uri": "https://localhost:8080/",
          "height": 270
        },
        "id": "06cFmmRcpHgT",
        "outputId": "6729279d-ccc7-4a47-a7bc-f7f7cb6b32a3"
      },
      "execution_count": 51,
      "outputs": [
        {
          "output_type": "execute_result",
          "data": {
            "text/plain": [
              "   Elevation  Horizontal_Distance_To_Roadways  \\\n",
              "0       2590                              390   \n",
              "1       2804                             3180   \n",
              "2       2785                             3090   \n",
              "3       2595                              391   \n",
              "4       2579                               67   \n",
              "\n",
              "   Horizontal_Distance_To_Fire_Points  Horizontal_Distance_To_Hydrology  \\\n",
              "0                                6225                               212   \n",
              "1                                6121                               268   \n",
              "2                                6211                               242   \n",
              "3                                6172                               153   \n",
              "4                                6031                               300   \n",
              "\n",
              "   Vertical_Distance_To_Hydrology  Hillshade_Noon  Hillshade_9am  Aspect  \\\n",
              "0                              -6             235            220      56   \n",
              "1                              65             238            234     139   \n",
              "2                             118             238            238     155   \n",
              "3                              -1             234            220      45   \n",
              "4                             -15             237            230     132   \n",
              "\n",
              "   Hillshade_3pm  Slope  \n",
              "0            151      2  \n",
              "1            135      9  \n",
              "2            122     18  \n",
              "3            150      2  \n",
              "4            140      6  "
            ],
            "text/html": [
              "\n",
              "  <div id=\"df-652a510d-a9cc-4e86-8403-46b7f312806f\">\n",
              "    <div class=\"colab-df-container\">\n",
              "      <div>\n",
              "<style scoped>\n",
              "    .dataframe tbody tr th:only-of-type {\n",
              "        vertical-align: middle;\n",
              "    }\n",
              "\n",
              "    .dataframe tbody tr th {\n",
              "        vertical-align: top;\n",
              "    }\n",
              "\n",
              "    .dataframe thead th {\n",
              "        text-align: right;\n",
              "    }\n",
              "</style>\n",
              "<table border=\"1\" class=\"dataframe\">\n",
              "  <thead>\n",
              "    <tr style=\"text-align: right;\">\n",
              "      <th></th>\n",
              "      <th>Elevation</th>\n",
              "      <th>Horizontal_Distance_To_Roadways</th>\n",
              "      <th>Horizontal_Distance_To_Fire_Points</th>\n",
              "      <th>Horizontal_Distance_To_Hydrology</th>\n",
              "      <th>Vertical_Distance_To_Hydrology</th>\n",
              "      <th>Hillshade_Noon</th>\n",
              "      <th>Hillshade_9am</th>\n",
              "      <th>Aspect</th>\n",
              "      <th>Hillshade_3pm</th>\n",
              "      <th>Slope</th>\n",
              "    </tr>\n",
              "  </thead>\n",
              "  <tbody>\n",
              "    <tr>\n",
              "      <th>0</th>\n",
              "      <td>2590</td>\n",
              "      <td>390</td>\n",
              "      <td>6225</td>\n",
              "      <td>212</td>\n",
              "      <td>-6</td>\n",
              "      <td>235</td>\n",
              "      <td>220</td>\n",
              "      <td>56</td>\n",
              "      <td>151</td>\n",
              "      <td>2</td>\n",
              "    </tr>\n",
              "    <tr>\n",
              "      <th>1</th>\n",
              "      <td>2804</td>\n",
              "      <td>3180</td>\n",
              "      <td>6121</td>\n",
              "      <td>268</td>\n",
              "      <td>65</td>\n",
              "      <td>238</td>\n",
              "      <td>234</td>\n",
              "      <td>139</td>\n",
              "      <td>135</td>\n",
              "      <td>9</td>\n",
              "    </tr>\n",
              "    <tr>\n",
              "      <th>2</th>\n",
              "      <td>2785</td>\n",
              "      <td>3090</td>\n",
              "      <td>6211</td>\n",
              "      <td>242</td>\n",
              "      <td>118</td>\n",
              "      <td>238</td>\n",
              "      <td>238</td>\n",
              "      <td>155</td>\n",
              "      <td>122</td>\n",
              "      <td>18</td>\n",
              "    </tr>\n",
              "    <tr>\n",
              "      <th>3</th>\n",
              "      <td>2595</td>\n",
              "      <td>391</td>\n",
              "      <td>6172</td>\n",
              "      <td>153</td>\n",
              "      <td>-1</td>\n",
              "      <td>234</td>\n",
              "      <td>220</td>\n",
              "      <td>45</td>\n",
              "      <td>150</td>\n",
              "      <td>2</td>\n",
              "    </tr>\n",
              "    <tr>\n",
              "      <th>4</th>\n",
              "      <td>2579</td>\n",
              "      <td>67</td>\n",
              "      <td>6031</td>\n",
              "      <td>300</td>\n",
              "      <td>-15</td>\n",
              "      <td>237</td>\n",
              "      <td>230</td>\n",
              "      <td>132</td>\n",
              "      <td>140</td>\n",
              "      <td>6</td>\n",
              "    </tr>\n",
              "  </tbody>\n",
              "</table>\n",
              "</div>\n",
              "      <button class=\"colab-df-convert\" onclick=\"convertToInteractive('df-652a510d-a9cc-4e86-8403-46b7f312806f')\"\n",
              "              title=\"Convert this dataframe to an interactive table.\"\n",
              "              style=\"display:none;\">\n",
              "        \n",
              "  <svg xmlns=\"http://www.w3.org/2000/svg\" height=\"24px\"viewBox=\"0 0 24 24\"\n",
              "       width=\"24px\">\n",
              "    <path d=\"M0 0h24v24H0V0z\" fill=\"none\"/>\n",
              "    <path d=\"M18.56 5.44l.94 2.06.94-2.06 2.06-.94-2.06-.94-.94-2.06-.94 2.06-2.06.94zm-11 1L8.5 8.5l.94-2.06 2.06-.94-2.06-.94L8.5 2.5l-.94 2.06-2.06.94zm10 10l.94 2.06.94-2.06 2.06-.94-2.06-.94-.94-2.06-.94 2.06-2.06.94z\"/><path d=\"M17.41 7.96l-1.37-1.37c-.4-.4-.92-.59-1.43-.59-.52 0-1.04.2-1.43.59L10.3 9.45l-7.72 7.72c-.78.78-.78 2.05 0 2.83L4 21.41c.39.39.9.59 1.41.59.51 0 1.02-.2 1.41-.59l7.78-7.78 2.81-2.81c.8-.78.8-2.07 0-2.86zM5.41 20L4 18.59l7.72-7.72 1.47 1.35L5.41 20z\"/>\n",
              "  </svg>\n",
              "      </button>\n",
              "      \n",
              "  <style>\n",
              "    .colab-df-container {\n",
              "      display:flex;\n",
              "      flex-wrap:wrap;\n",
              "      gap: 12px;\n",
              "    }\n",
              "\n",
              "    .colab-df-convert {\n",
              "      background-color: #E8F0FE;\n",
              "      border: none;\n",
              "      border-radius: 50%;\n",
              "      cursor: pointer;\n",
              "      display: none;\n",
              "      fill: #1967D2;\n",
              "      height: 32px;\n",
              "      padding: 0 0 0 0;\n",
              "      width: 32px;\n",
              "    }\n",
              "\n",
              "    .colab-df-convert:hover {\n",
              "      background-color: #E2EBFA;\n",
              "      box-shadow: 0px 1px 2px rgba(60, 64, 67, 0.3), 0px 1px 3px 1px rgba(60, 64, 67, 0.15);\n",
              "      fill: #174EA6;\n",
              "    }\n",
              "\n",
              "    [theme=dark] .colab-df-convert {\n",
              "      background-color: #3B4455;\n",
              "      fill: #D2E3FC;\n",
              "    }\n",
              "\n",
              "    [theme=dark] .colab-df-convert:hover {\n",
              "      background-color: #434B5C;\n",
              "      box-shadow: 0px 1px 3px 1px rgba(0, 0, 0, 0.15);\n",
              "      filter: drop-shadow(0px 1px 2px rgba(0, 0, 0, 0.3));\n",
              "      fill: #FFFFFF;\n",
              "    }\n",
              "  </style>\n",
              "\n",
              "      <script>\n",
              "        const buttonEl =\n",
              "          document.querySelector('#df-652a510d-a9cc-4e86-8403-46b7f312806f button.colab-df-convert');\n",
              "        buttonEl.style.display =\n",
              "          google.colab.kernel.accessAllowed ? 'block' : 'none';\n",
              "\n",
              "        async function convertToInteractive(key) {\n",
              "          const element = document.querySelector('#df-652a510d-a9cc-4e86-8403-46b7f312806f');\n",
              "          const dataTable =\n",
              "            await google.colab.kernel.invokeFunction('convertToInteractive',\n",
              "                                                     [key], {});\n",
              "          if (!dataTable) return;\n",
              "\n",
              "          const docLinkHtml = 'Like what you see? Visit the ' +\n",
              "            '<a target=\"_blank\" href=https://colab.research.google.com/notebooks/data_table.ipynb>data table notebook</a>'\n",
              "            + ' to learn more about interactive tables.';\n",
              "          element.innerHTML = '';\n",
              "          dataTable['output_type'] = 'display_data';\n",
              "          await google.colab.output.renderOutput(dataTable, element);\n",
              "          const docLink = document.createElement('div');\n",
              "          docLink.innerHTML = docLinkHtml;\n",
              "          element.appendChild(docLink);\n",
              "        }\n",
              "      </script>\n",
              "    </div>\n",
              "  </div>\n",
              "  "
            ]
          },
          "metadata": {},
          "execution_count": 51
        }
      ]
    },
    {
      "cell_type": "code",
      "source": [
        "from sklearn.preprocessing import MinMaxScaler # usaremos el escalador MinMaxScaler\n",
        "\n",
        "scaler = MinMaxScaler()\n",
        "X_scaled = scaler.fit_transform(df_2_cont)\n",
        "df_2_normal = pd.DataFrame(X_scaled, columns=df_2_cont.columns)\n",
        "df_2_normal.head()"
      ],
      "metadata": {
        "colab": {
          "base_uri": "https://localhost:8080/",
          "height": 270
        },
        "id": "l11MFHCQjigo",
        "outputId": "c654c897-08fc-4552-dcf2-ba1c9ddbf27b"
      },
      "execution_count": 53,
      "outputs": [
        {
          "output_type": "execute_result",
          "data": {
            "text/plain": [
              "   Elevation  Horizontal_Distance_To_Roadways  \\\n",
              "0   0.365683                         0.054798   \n",
              "1   0.472736                         0.446817   \n",
              "2   0.463232                         0.434172   \n",
              "3   0.368184                         0.054939   \n",
              "4   0.360180                         0.009414   \n",
              "\n",
              "   Horizontal_Distance_To_Fire_Points  Horizontal_Distance_To_Hydrology  \\\n",
              "0                            0.867838                          0.151754   \n",
              "1                            0.853339                          0.191840   \n",
              "2                            0.865886                          0.173228   \n",
              "3                            0.860449                          0.109520   \n",
              "4                            0.840792                          0.214746   \n",
              "\n",
              "   Vertical_Distance_To_Hydrology  Hillshade_Noon  Hillshade_9am    Aspect  \\\n",
              "0                        0.215762        0.925197       0.866142  0.155556   \n",
              "1                        0.307494        0.937008       0.921260  0.386111   \n",
              "2                        0.375969        0.937008       0.937008  0.430556   \n",
              "3                        0.222222        0.921260       0.866142  0.125000   \n",
              "4                        0.204134        0.933071       0.905512  0.366667   \n",
              "\n",
              "   Hillshade_3pm     Slope  \n",
              "0       0.594488  0.030303  \n",
              "1       0.531496  0.136364  \n",
              "2       0.480315  0.272727  \n",
              "3       0.590551  0.030303  \n",
              "4       0.551181  0.090909  "
            ],
            "text/html": [
              "\n",
              "  <div id=\"df-e01ef5e1-67a2-4924-95b5-db594d441084\">\n",
              "    <div class=\"colab-df-container\">\n",
              "      <div>\n",
              "<style scoped>\n",
              "    .dataframe tbody tr th:only-of-type {\n",
              "        vertical-align: middle;\n",
              "    }\n",
              "\n",
              "    .dataframe tbody tr th {\n",
              "        vertical-align: top;\n",
              "    }\n",
              "\n",
              "    .dataframe thead th {\n",
              "        text-align: right;\n",
              "    }\n",
              "</style>\n",
              "<table border=\"1\" class=\"dataframe\">\n",
              "  <thead>\n",
              "    <tr style=\"text-align: right;\">\n",
              "      <th></th>\n",
              "      <th>Elevation</th>\n",
              "      <th>Horizontal_Distance_To_Roadways</th>\n",
              "      <th>Horizontal_Distance_To_Fire_Points</th>\n",
              "      <th>Horizontal_Distance_To_Hydrology</th>\n",
              "      <th>Vertical_Distance_To_Hydrology</th>\n",
              "      <th>Hillshade_Noon</th>\n",
              "      <th>Hillshade_9am</th>\n",
              "      <th>Aspect</th>\n",
              "      <th>Hillshade_3pm</th>\n",
              "      <th>Slope</th>\n",
              "    </tr>\n",
              "  </thead>\n",
              "  <tbody>\n",
              "    <tr>\n",
              "      <th>0</th>\n",
              "      <td>0.365683</td>\n",
              "      <td>0.054798</td>\n",
              "      <td>0.867838</td>\n",
              "      <td>0.151754</td>\n",
              "      <td>0.215762</td>\n",
              "      <td>0.925197</td>\n",
              "      <td>0.866142</td>\n",
              "      <td>0.155556</td>\n",
              "      <td>0.594488</td>\n",
              "      <td>0.030303</td>\n",
              "    </tr>\n",
              "    <tr>\n",
              "      <th>1</th>\n",
              "      <td>0.472736</td>\n",
              "      <td>0.446817</td>\n",
              "      <td>0.853339</td>\n",
              "      <td>0.191840</td>\n",
              "      <td>0.307494</td>\n",
              "      <td>0.937008</td>\n",
              "      <td>0.921260</td>\n",
              "      <td>0.386111</td>\n",
              "      <td>0.531496</td>\n",
              "      <td>0.136364</td>\n",
              "    </tr>\n",
              "    <tr>\n",
              "      <th>2</th>\n",
              "      <td>0.463232</td>\n",
              "      <td>0.434172</td>\n",
              "      <td>0.865886</td>\n",
              "      <td>0.173228</td>\n",
              "      <td>0.375969</td>\n",
              "      <td>0.937008</td>\n",
              "      <td>0.937008</td>\n",
              "      <td>0.430556</td>\n",
              "      <td>0.480315</td>\n",
              "      <td>0.272727</td>\n",
              "    </tr>\n",
              "    <tr>\n",
              "      <th>3</th>\n",
              "      <td>0.368184</td>\n",
              "      <td>0.054939</td>\n",
              "      <td>0.860449</td>\n",
              "      <td>0.109520</td>\n",
              "      <td>0.222222</td>\n",
              "      <td>0.921260</td>\n",
              "      <td>0.866142</td>\n",
              "      <td>0.125000</td>\n",
              "      <td>0.590551</td>\n",
              "      <td>0.030303</td>\n",
              "    </tr>\n",
              "    <tr>\n",
              "      <th>4</th>\n",
              "      <td>0.360180</td>\n",
              "      <td>0.009414</td>\n",
              "      <td>0.840792</td>\n",
              "      <td>0.214746</td>\n",
              "      <td>0.204134</td>\n",
              "      <td>0.933071</td>\n",
              "      <td>0.905512</td>\n",
              "      <td>0.366667</td>\n",
              "      <td>0.551181</td>\n",
              "      <td>0.090909</td>\n",
              "    </tr>\n",
              "  </tbody>\n",
              "</table>\n",
              "</div>\n",
              "      <button class=\"colab-df-convert\" onclick=\"convertToInteractive('df-e01ef5e1-67a2-4924-95b5-db594d441084')\"\n",
              "              title=\"Convert this dataframe to an interactive table.\"\n",
              "              style=\"display:none;\">\n",
              "        \n",
              "  <svg xmlns=\"http://www.w3.org/2000/svg\" height=\"24px\"viewBox=\"0 0 24 24\"\n",
              "       width=\"24px\">\n",
              "    <path d=\"M0 0h24v24H0V0z\" fill=\"none\"/>\n",
              "    <path d=\"M18.56 5.44l.94 2.06.94-2.06 2.06-.94-2.06-.94-.94-2.06-.94 2.06-2.06.94zm-11 1L8.5 8.5l.94-2.06 2.06-.94-2.06-.94L8.5 2.5l-.94 2.06-2.06.94zm10 10l.94 2.06.94-2.06 2.06-.94-2.06-.94-.94-2.06-.94 2.06-2.06.94z\"/><path d=\"M17.41 7.96l-1.37-1.37c-.4-.4-.92-.59-1.43-.59-.52 0-1.04.2-1.43.59L10.3 9.45l-7.72 7.72c-.78.78-.78 2.05 0 2.83L4 21.41c.39.39.9.59 1.41.59.51 0 1.02-.2 1.41-.59l7.78-7.78 2.81-2.81c.8-.78.8-2.07 0-2.86zM5.41 20L4 18.59l7.72-7.72 1.47 1.35L5.41 20z\"/>\n",
              "  </svg>\n",
              "      </button>\n",
              "      \n",
              "  <style>\n",
              "    .colab-df-container {\n",
              "      display:flex;\n",
              "      flex-wrap:wrap;\n",
              "      gap: 12px;\n",
              "    }\n",
              "\n",
              "    .colab-df-convert {\n",
              "      background-color: #E8F0FE;\n",
              "      border: none;\n",
              "      border-radius: 50%;\n",
              "      cursor: pointer;\n",
              "      display: none;\n",
              "      fill: #1967D2;\n",
              "      height: 32px;\n",
              "      padding: 0 0 0 0;\n",
              "      width: 32px;\n",
              "    }\n",
              "\n",
              "    .colab-df-convert:hover {\n",
              "      background-color: #E2EBFA;\n",
              "      box-shadow: 0px 1px 2px rgba(60, 64, 67, 0.3), 0px 1px 3px 1px rgba(60, 64, 67, 0.15);\n",
              "      fill: #174EA6;\n",
              "    }\n",
              "\n",
              "    [theme=dark] .colab-df-convert {\n",
              "      background-color: #3B4455;\n",
              "      fill: #D2E3FC;\n",
              "    }\n",
              "\n",
              "    [theme=dark] .colab-df-convert:hover {\n",
              "      background-color: #434B5C;\n",
              "      box-shadow: 0px 1px 3px 1px rgba(0, 0, 0, 0.15);\n",
              "      filter: drop-shadow(0px 1px 2px rgba(0, 0, 0, 0.3));\n",
              "      fill: #FFFFFF;\n",
              "    }\n",
              "  </style>\n",
              "\n",
              "      <script>\n",
              "        const buttonEl =\n",
              "          document.querySelector('#df-e01ef5e1-67a2-4924-95b5-db594d441084 button.colab-df-convert');\n",
              "        buttonEl.style.display =\n",
              "          google.colab.kernel.accessAllowed ? 'block' : 'none';\n",
              "\n",
              "        async function convertToInteractive(key) {\n",
              "          const element = document.querySelector('#df-e01ef5e1-67a2-4924-95b5-db594d441084');\n",
              "          const dataTable =\n",
              "            await google.colab.kernel.invokeFunction('convertToInteractive',\n",
              "                                                     [key], {});\n",
              "          if (!dataTable) return;\n",
              "\n",
              "          const docLinkHtml = 'Like what you see? Visit the ' +\n",
              "            '<a target=\"_blank\" href=https://colab.research.google.com/notebooks/data_table.ipynb>data table notebook</a>'\n",
              "            + ' to learn more about interactive tables.';\n",
              "          element.innerHTML = '';\n",
              "          dataTable['output_type'] = 'display_data';\n",
              "          await google.colab.output.renderOutput(dataTable, element);\n",
              "          const docLink = document.createElement('div');\n",
              "          docLink.innerHTML = docLinkHtml;\n",
              "          element.appendChild(docLink);\n",
              "        }\n",
              "      </script>\n",
              "    </div>\n",
              "  </div>\n",
              "  "
            ]
          },
          "metadata": {},
          "execution_count": 53
        }
      ]
    },
    {
      "cell_type": "code",
      "source": [
        "# y lo representamos\n",
        "plt.figure(figsize=(16,10))\n",
        "sns.boxplot(data=df_2_normal, orient=\"h\")\n",
        "plt.show()"
      ],
      "metadata": {
        "colab": {
          "base_uri": "https://localhost:8080/",
          "height": 479
        },
        "id": "c1j5bdFskpp0",
        "outputId": "d0689326-75d7-4dd2-de05-ee573a1879b9"
      },
      "execution_count": 54,
      "outputs": [
        {
          "output_type": "display_data",
          "data": {
            "text/plain": [
              "<Figure size 1600x1000 with 1 Axes>"
            ],
            "image/png": "[encoded data removed]"
          },
          "metadata": {}
        }
      ]
    },
    {
      "cell_type": "code",
      "source": [
        "# y volvemos a añadir la variable objetivo Cover_Type\n",
        "df_2_normal['Cover_Type'] = df_2['Cover_Type']\n",
        "df_2_normal.head()"
      ],
      "metadata": {
        "colab": {
          "base_uri": "https://localhost:8080/",
          "height": 270
        },
        "id": "1NL3a6SNrzp4",
        "outputId": "47eb05f2-c5e8-45ae-922e-90a3116ada20"
      },
      "execution_count": 55,
      "outputs": [
        {
          "output_type": "execute_result",
          "data": {
            "text/plain": [
              "   Elevation  Horizontal_Distance_To_Roadways  \\\n",
              "0   0.365683                         0.054798   \n",
              "1   0.472736                         0.446817   \n",
              "2   0.463232                         0.434172   \n",
              "3   0.368184                         0.054939   \n",
              "4   0.360180                         0.009414   \n",
              "\n",
              "   Horizontal_Distance_To_Fire_Points  Horizontal_Distance_To_Hydrology  \\\n",
              "0                            0.867838                          0.151754   \n",
              "1                            0.853339                          0.191840   \n",
              "2                            0.865886                          0.173228   \n",
              "3                            0.860449                          0.109520   \n",
              "4                            0.840792                          0.214746   \n",
              "\n",
              "   Vertical_Distance_To_Hydrology  Hillshade_Noon  Hillshade_9am    Aspect  \\\n",
              "0                        0.215762        0.925197       0.866142  0.155556   \n",
              "1                        0.307494        0.937008       0.921260  0.386111   \n",
              "2                        0.375969        0.937008       0.937008  0.430556   \n",
              "3                        0.222222        0.921260       0.866142  0.125000   \n",
              "4                        0.204134        0.933071       0.905512  0.366667   \n",
              "\n",
              "   Hillshade_3pm     Slope  Cover_Type  \n",
              "0       0.594488  0.030303           5  \n",
              "1       0.531496  0.136364           2  \n",
              "2       0.480315  0.272727           2  \n",
              "3       0.590551  0.030303           5  \n",
              "4       0.551181  0.090909           2  "
            ],
            "text/html": [
              "\n",
              "  <div id=\"df-26ece1c2-88e4-445b-a43a-380748aaa821\">\n",
              "    <div class=\"colab-df-container\">\n",
              "      <div>\n",
              "<style scoped>\n",
              "    .dataframe tbody tr th:only-of-type {\n",
              "        vertical-align: middle;\n",
              "    }\n",
              "\n",
              "    .dataframe tbody tr th {\n",
              "        vertical-align: top;\n",
              "    }\n",
              "\n",
              "    .dataframe thead th {\n",
              "        text-align: right;\n",
              "    }\n",
              "</style>\n",
              "<table border=\"1\" class=\"dataframe\">\n",
              "  <thead>\n",
              "    <tr style=\"text-align: right;\">\n",
              "      <th></th>\n",
              "      <th>Elevation</th>\n",
              "      <th>Horizontal_Distance_To_Roadways</th>\n",
              "      <th>Horizontal_Distance_To_Fire_Points</th>\n",
              "      <th>Horizontal_Distance_To_Hydrology</th>\n",
              "      <th>Vertical_Distance_To_Hydrology</th>\n",
              "      <th>Hillshade_Noon</th>\n",
              "      <th>Hillshade_9am</th>\n",
              "      <th>Aspect</th>\n",
              "      <th>Hillshade_3pm</th>\n",
              "      <th>Slope</th>\n",
              "      <th>Cover_Type</th>\n",
              "    </tr>\n",
              "  </thead>\n",
              "  <tbody>\n",
              "    <tr>\n",
              "      <th>0</th>\n",
              "      <td>0.365683</td>\n",
              "      <td>0.054798</td>\n",
              "      <td>0.867838</td>\n",
              "      <td>0.151754</td>\n",
              "      <td>0.215762</td>\n",
              "      <td>0.925197</td>\n",
              "      <td>0.866142</td>\n",
              "      <td>0.155556</td>\n",
              "      <td>0.594488</td>\n",
              "      <td>0.030303</td>\n",
              "      <td>5</td>\n",
              "    </tr>\n",
              "    <tr>\n",
              "      <th>1</th>\n",
              "      <td>0.472736</td>\n",
              "      <td>0.446817</td>\n",
              "      <td>0.853339</td>\n",
              "      <td>0.191840</td>\n",
              "      <td>0.307494</td>\n",
              "      <td>0.937008</td>\n",
              "      <td>0.921260</td>\n",
              "      <td>0.386111</td>\n",
              "      <td>0.531496</td>\n",
              "      <td>0.136364</td>\n",
              "      <td>2</td>\n",
              "    </tr>\n",
              "    <tr>\n",
              "      <th>2</th>\n",
              "      <td>0.463232</td>\n",
              "      <td>0.434172</td>\n",
              "      <td>0.865886</td>\n",
              "      <td>0.173228</td>\n",
              "      <td>0.375969</td>\n",
              "      <td>0.937008</td>\n",
              "      <td>0.937008</td>\n",
              "      <td>0.430556</td>\n",
              "      <td>0.480315</td>\n",
              "      <td>0.272727</td>\n",
              "      <td>2</td>\n",
              "    </tr>\n",
              "    <tr>\n",
              "      <th>3</th>\n",
              "      <td>0.368184</td>\n",
              "      <td>0.054939</td>\n",
              "      <td>0.860449</td>\n",
              "      <td>0.109520</td>\n",
              "      <td>0.222222</td>\n",
              "      <td>0.921260</td>\n",
              "      <td>0.866142</td>\n",
              "      <td>0.125000</td>\n",
              "      <td>0.590551</td>\n",
              "      <td>0.030303</td>\n",
              "      <td>5</td>\n",
              "    </tr>\n",
              "    <tr>\n",
              "      <th>4</th>\n",
              "      <td>0.360180</td>\n",
              "      <td>0.009414</td>\n",
              "      <td>0.840792</td>\n",
              "      <td>0.214746</td>\n",
              "      <td>0.204134</td>\n",
              "      <td>0.933071</td>\n",
              "      <td>0.905512</td>\n",
              "      <td>0.366667</td>\n",
              "      <td>0.551181</td>\n",
              "      <td>0.090909</td>\n",
              "      <td>2</td>\n",
              "    </tr>\n",
              "  </tbody>\n",
              "</table>\n",
              "</div>\n",
              "      <button class=\"colab-df-convert\" onclick=\"convertToInteractive('df-26ece1c2-88e4-445b-a43a-380748aaa821')\"\n",
              "              title=\"Convert this dataframe to an interactive table.\"\n",
              "              style=\"display:none;\">\n",
              "        \n",
              "  <svg xmlns=\"http://www.w3.org/2000/svg\" height=\"24px\"viewBox=\"0 0 24 24\"\n",
              "       width=\"24px\">\n",
              "    <path d=\"M0 0h24v24H0V0z\" fill=\"none\"/>\n",
              "    <path d=\"M18.56 5.44l.94 2.06.94-2.06 2.06-.94-2.06-.94-.94-2.06-.94 2.06-2.06.94zm-11 1L8.5 8.5l.94-2.06 2.06-.94-2.06-.94L8.5 2.5l-.94 2.06-2.06.94zm10 10l.94 2.06.94-2.06 2.06-.94-2.06-.94-.94-2.06-.94 2.06-2.06.94z\"/><path d=\"M17.41 7.96l-1.37-1.37c-.4-.4-.92-.59-1.43-.59-.52 0-1.04.2-1.43.59L10.3 9.45l-7.72 7.72c-.78.78-.78 2.05 0 2.83L4 21.41c.39.39.9.59 1.41.59.51 0 1.02-.2 1.41-.59l7.78-7.78 2.81-2.81c.8-.78.8-2.07 0-2.86zM5.41 20L4 18.59l7.72-7.72 1.47 1.35L5.41 20z\"/>\n",
              "  </svg>\n",
              "      </button>\n",
              "      \n",
              "  <style>\n",
              "    .colab-df-container {\n",
              "      display:flex;\n",
              "      flex-wrap:wrap;\n",
              "      gap: 12px;\n",
              "    }\n",
              "\n",
              "    .colab-df-convert {\n",
              "      background-color: #E8F0FE;\n",
              "      border: none;\n",
              "      border-radius: 50%;\n",
              "      cursor: pointer;\n",
              "      display: none;\n",
              "      fill: #1967D2;\n",
              "      height: 32px;\n",
              "      padding: 0 0 0 0;\n",
              "      width: 32px;\n",
              "    }\n",
              "\n",
              "    .colab-df-convert:hover {\n",
              "      background-color: #E2EBFA;\n",
              "      box-shadow: 0px 1px 2px rgba(60, 64, 67, 0.3), 0px 1px 3px 1px rgba(60, 64, 67, 0.15);\n",
              "      fill: #174EA6;\n",
              "    }\n",
              "\n",
              "    [theme=dark] .colab-df-convert {\n",
              "      background-color: #3B4455;\n",
              "      fill: #D2E3FC;\n",
              "    }\n",
              "\n",
              "    [theme=dark] .colab-df-convert:hover {\n",
              "      background-color: #434B5C;\n",
              "      box-shadow: 0px 1px 3px 1px rgba(0, 0, 0, 0.15);\n",
              "      filter: drop-shadow(0px 1px 2px rgba(0, 0, 0, 0.3));\n",
              "      fill: #FFFFFF;\n",
              "    }\n",
              "  </style>\n",
              "\n",
              "      <script>\n",
              "        const buttonEl =\n",
              "          document.querySelector('#df-26ece1c2-88e4-445b-a43a-380748aaa821 button.colab-df-convert');\n",
              "        buttonEl.style.display =\n",
              "          google.colab.kernel.accessAllowed ? 'block' : 'none';\n",
              "\n",
              "        async function convertToInteractive(key) {\n",
              "          const element = document.querySelector('#df-26ece1c2-88e4-445b-a43a-380748aaa821');\n",
              "          const dataTable =\n",
              "            await google.colab.kernel.invokeFunction('convertToInteractive',\n",
              "                                                     [key], {});\n",
              "          if (!dataTable) return;\n",
              "\n",
              "          const docLinkHtml = 'Like what you see? Visit the ' +\n",
              "            '<a target=\"_blank\" href=https://colab.research.google.com/notebooks/data_table.ipynb>data table notebook</a>'\n",
              "            + ' to learn more about interactive tables.';\n",
              "          element.innerHTML = '';\n",
              "          dataTable['output_type'] = 'display_data';\n",
              "          await google.colab.output.renderOutput(dataTable, element);\n",
              "          const docLink = document.createElement('div');\n",
              "          docLink.innerHTML = docLinkHtml;\n",
              "          element.appendChild(docLink);\n",
              "        }\n",
              "      </script>\n",
              "    </div>\n",
              "  </div>\n",
              "  "
            ]
          },
          "metadata": {},
          "execution_count": 55
        }
      ]
    },
    {
      "cell_type": "markdown",
      "source": [
        "# EJERCICIO 3: Regresión Lógística\n",
        "Crear el primer clasificador\n"
      ],
      "metadata": {
        "id": "6UntqA1zk-Pi"
      }
    },
    {
      "cell_type": "code",
      "source": [
        "df_3 = df_2_normal.copy()\n",
        "from sklearn.model_selection import train_test_split"
      ],
      "metadata": {
        "id": "loMNSdtVmNV8"
      },
      "execution_count": 56,
      "outputs": []
    },
    {
      "cell_type": "markdown",
      "source": [
        "## 3.1 Dividir datos en training y en test:\n",
        "- Guarda el 20% de los datos para testeo.\n",
        "- random_state=100\n"
      ],
      "metadata": {
        "id": "ska-tlAmlD9O"
      }
    },
    {
      "cell_type": "code",
      "source": [
        "X = df_3.drop(columns=['Cover_Type'])\n",
        "y = df_3['Cover_Type']\n",
        "\n",
        "X_train, X_test, y_train, y_test = train_test_split(X, y, test_size=0.2, random_state=100)"
      ],
      "metadata": {
        "id": "dC56V_J7lC2N"
      },
      "execution_count": 57,
      "outputs": []
    },
    {
      "cell_type": "markdown",
      "source": [
        "## 3.2 Entrenar Modelo de Regresión Logística:\n",
        "- Número máximo de iteraciones igual a 1000\n",
        "- random_state=100\n"
      ],
      "metadata": {
        "id": "O2Bnwm7GlGW2"
      }
    },
    {
      "cell_type": "code",
      "source": [
        "from sklearn.linear_model import LogisticRegression\n",
        "modelo = LogisticRegression(max_iter= 1000, random_state=100)\n",
        "modelo"
      ],
      "metadata": {
        "colab": {
          "base_uri": "https://localhost:8080/",
          "height": 74
        },
        "id": "vdPOAWrHlH_k",
        "outputId": "a845c782-1d06-4e05-933c-2566a1a6b719"
      },
      "execution_count": 60,
      "outputs": [
        {
          "output_type": "execute_result",
          "data": {
            "text/plain": [
              "LogisticRegression(max_iter=1000, random_state=100)"
            ],
            "text/html": [
              "<style>#sk-container-id-3 {color: black;background-color: white;}#sk-container-id-3 pre{padding: 0;}#sk-container-id-3 div.sk-toggleable {background-color: white;}#sk-container-id-3 label.sk-toggleable__label {cursor: pointer;display: block;width: 100%;margin-bottom: 0;padding: 0.3em;box-sizing: border-box;text-align: center;}#sk-container-id-3 label.sk-toggleable__label-arrow:before {content: \"▸\";float: left;margin-right: 0.25em;color: #696969;}#sk-container-id-3 label.sk-toggleable__label-arrow:hover:before {color: black;}#sk-container-id-3 div.sk-estimator:hover label.sk-toggleable__label-arrow:before {color: black;}#sk-container-id-3 div.sk-toggleable__content {max-height: 0;max-width: 0;overflow: hidden;text-align: left;background-color: #f0f8ff;}#sk-container-id-3 div.sk-toggleable__content pre {margin: 0.2em;color: black;border-radius: 0.25em;background-color: #f0f8ff;}#sk-container-id-3 input.sk-toggleable__control:checked~div.sk-toggleable__content {max-height: 200px;max-width: 100%;overflow: auto;}#sk-container-id-3 input.sk-toggleable__control:checked~label.sk-toggleable__label-arrow:before {content: \"▾\";}#sk-container-id-3 div.sk-estimator input.sk-toggleable__control:checked~label.sk-toggleable__label {background-color: #d4ebff;}#sk-container-id-3 div.sk-label input.sk-toggleable__control:checked~label.sk-toggleable__label {background-color: #d4ebff;}#sk-container-id-3 input.sk-hidden--visually {border: 0;clip: rect(1px 1px 1px 1px);clip: rect(1px, 1px, 1px, 1px);height: 1px;margin: -1px;overflow: hidden;padding: 0;position: absolute;width: 1px;}#sk-container-id-3 div.sk-estimator {font-family: monospace;background-color: #f0f8ff;border: 1px dotted black;border-radius: 0.25em;box-sizing: border-box;margin-bottom: 0.5em;}#sk-container-id-3 div.sk-estimator:hover {background-color: #d4ebff;}#sk-container-id-3 div.sk-parallel-item::after {content: \"\";width: 100%;border-bottom: 1px solid gray;flex-grow: 1;}#sk-container-id-3 div.sk-label:hover label.sk-toggleable__label {background-color: #d4ebff;}#sk-container-id-3 div.sk-serial::before {content: \"\";position: absolute;border-left: 1px solid gray;box-sizing: border-box;top: 0;bottom: 0;left: 50%;z-index: 0;}#sk-container-id-3 div.sk-serial {display: flex;flex-direction: column;align-items: center;background-color: white;padding-right: 0.2em;padding-left: 0.2em;position: relative;}#sk-container-id-3 div.sk-item {position: relative;z-index: 1;}#sk-container-id-3 div.sk-parallel {display: flex;align-items: stretch;justify-content: center;background-color: white;position: relative;}#sk-container-id-3 div.sk-item::before, #sk-container-id-3 div.sk-parallel-item::before {content: \"\";position: absolute;border-left: 1px solid gray;box-sizing: border-box;top: 0;bottom: 0;left: 50%;z-index: -1;}#sk-container-id-3 div.sk-parallel-item {display: flex;flex-direction: column;z-index: 1;position: relative;background-color: white;}#sk-container-id-3 div.sk-parallel-item:first-child::after {align-self: flex-end;width: 50%;}#sk-container-id-3 div.sk-parallel-item:last-child::after {align-self: flex-start;width: 50%;}#sk-container-id-3 div.sk-parallel-item:only-child::after {width: 0;}#sk-container-id-3 div.sk-dashed-wrapped {border: 1px dashed gray;margin: 0 0.4em 0.5em 0.4em;box-sizing: border-box;padding-bottom: 0.4em;background-color: white;}#sk-container-id-3 div.sk-label label {font-family: monospace;font-weight: bold;display: inline-block;line-height: 1.2em;}#sk-container-id-3 div.sk-label-container {text-align: center;}#sk-container-id-3 div.sk-container {/* jupyter's `normalize.less` sets `[hidden] { display: none; }` but bootstrap.min.css set `[hidden] { display: none !important; }` so we also need the `!important` here to be able to override the default hidden behavior on the sphinx rendered scikit-learn.org. See: https://github.com/scikit-learn/scikit-learn/issues/21755 */display: inline-block !important;position: relative;}#sk-container-id-3 div.sk-text-repr-fallback {display: none;}</style><div id=\"sk-container-id-3\" class=\"sk-top-container\"><div class=\"sk-text-repr-fallback\"><pre>LogisticRegression(max_iter=1000, random_state=100)</pre><b>In a Jupyter environment, please rerun this cell to show the HTML representation or trust the notebook. <br />On GitHub, the HTML representation is unable to render, please try loading this page with nbviewer.org.</b></div><div class=\"sk-container\" hidden><div class=\"sk-item\"><div class=\"sk-estimator sk-toggleable\"><input class=\"sk-toggleable__control sk-hidden--visually\" id=\"sk-estimator-id-3\" type=\"checkbox\" checked><label for=\"sk-estimator-id-3\" class=\"sk-toggleable__label sk-toggleable__label-arrow\">LogisticRegression</label><div class=\"sk-toggleable__content\"><pre>LogisticRegression(max_iter=1000, random_state=100)</pre></div></div></div></div></div>"
            ]
          },
          "metadata": {},
          "execution_count": 60
        }
      ]
    },
    {
      "cell_type": "code",
      "source": [
        "# entrenarlo\n",
        "modelo.fit(X_train, y_train)"
      ],
      "metadata": {
        "colab": {
          "base_uri": "https://localhost:8080/",
          "height": 74
        },
        "id": "us4PWcSjuVO8",
        "outputId": "0fac2466-aa35-4248-c2fe-aaa7c5e84abb"
      },
      "execution_count": 61,
      "outputs": [
        {
          "output_type": "execute_result",
          "data": {
            "text/plain": [
              "LogisticRegression(max_iter=1000, random_state=100)"
            ],
            "text/html": [
              "<style>#sk-container-id-4 {color: black;background-color: white;}#sk-container-id-4 pre{padding: 0;}#sk-container-id-4 div.sk-toggleable {background-color: white;}#sk-container-id-4 label.sk-toggleable__label {cursor: pointer;display: block;width: 100%;margin-bottom: 0;padding: 0.3em;box-sizing: border-box;text-align: center;}#sk-container-id-4 label.sk-toggleable__label-arrow:before {content: \"▸\";float: left;margin-right: 0.25em;color: #696969;}#sk-container-id-4 label.sk-toggleable__label-arrow:hover:before {color: black;}#sk-container-id-4 div.sk-estimator:hover label.sk-toggleable__label-arrow:before {color: black;}#sk-container-id-4 div.sk-toggleable__content {max-height: 0;max-width: 0;overflow: hidden;text-align: left;background-color: #f0f8ff;}#sk-container-id-4 div.sk-toggleable__content pre {margin: 0.2em;color: black;border-radius: 0.25em;background-color: #f0f8ff;}#sk-container-id-4 input.sk-toggleable__control:checked~div.sk-toggleable__content {max-height: 200px;max-width: 100%;overflow: auto;}#sk-container-id-4 input.sk-toggleable__control:checked~label.sk-toggleable__label-arrow:before {content: \"▾\";}#sk-container-id-4 div.sk-estimator input.sk-toggleable__control:checked~label.sk-toggleable__label {background-color: #d4ebff;}#sk-container-id-4 div.sk-label input.sk-toggleable__control:checked~label.sk-toggleable__label {background-color: #d4ebff;}#sk-container-id-4 input.sk-hidden--visually {border: 0;clip: rect(1px 1px 1px 1px);clip: rect(1px, 1px, 1px, 1px);height: 1px;margin: -1px;overflow: hidden;padding: 0;position: absolute;width: 1px;}#sk-container-id-4 div.sk-estimator {font-family: monospace;background-color: #f0f8ff;border: 1px dotted black;border-radius: 0.25em;box-sizing: border-box;margin-bottom: 0.5em;}#sk-container-id-4 div.sk-estimator:hover {background-color: #d4ebff;}#sk-container-id-4 div.sk-parallel-item::after {content: \"\";width: 100%;border-bottom: 1px solid gray;flex-grow: 1;}#sk-container-id-4 div.sk-label:hover label.sk-toggleable__label {background-color: #d4ebff;}#sk-container-id-4 div.sk-serial::before {content: \"\";position: absolute;border-left: 1px solid gray;box-sizing: border-box;top: 0;bottom: 0;left: 50%;z-index: 0;}#sk-container-id-4 div.sk-serial {display: flex;flex-direction: column;align-items: center;background-color: white;padding-right: 0.2em;padding-left: 0.2em;position: relative;}#sk-container-id-4 div.sk-item {position: relative;z-index: 1;}#sk-container-id-4 div.sk-parallel {display: flex;align-items: stretch;justify-content: center;background-color: white;position: relative;}#sk-container-id-4 div.sk-item::before, #sk-container-id-4 div.sk-parallel-item::before {content: \"\";position: absolute;border-left: 1px solid gray;box-sizing: border-box;top: 0;bottom: 0;left: 50%;z-index: -1;}#sk-container-id-4 div.sk-parallel-item {display: flex;flex-direction: column;z-index: 1;position: relative;background-color: white;}#sk-container-id-4 div.sk-parallel-item:first-child::after {align-self: flex-end;width: 50%;}#sk-container-id-4 div.sk-parallel-item:last-child::after {align-self: flex-start;width: 50%;}#sk-container-id-4 div.sk-parallel-item:only-child::after {width: 0;}#sk-container-id-4 div.sk-dashed-wrapped {border: 1px dashed gray;margin: 0 0.4em 0.5em 0.4em;box-sizing: border-box;padding-bottom: 0.4em;background-color: white;}#sk-container-id-4 div.sk-label label {font-family: monospace;font-weight: bold;display: inline-block;line-height: 1.2em;}#sk-container-id-4 div.sk-label-container {text-align: center;}#sk-container-id-4 div.sk-container {/* jupyter's `normalize.less` sets `[hidden] { display: none; }` but bootstrap.min.css set `[hidden] { display: none !important; }` so we also need the `!important` here to be able to override the default hidden behavior on the sphinx rendered scikit-learn.org. See: https://github.com/scikit-learn/scikit-learn/issues/21755 */display: inline-block !important;position: relative;}#sk-container-id-4 div.sk-text-repr-fallback {display: none;}</style><div id=\"sk-container-id-4\" class=\"sk-top-container\"><div class=\"sk-text-repr-fallback\"><pre>LogisticRegression(max_iter=1000, random_state=100)</pre><b>In a Jupyter environment, please rerun this cell to show the HTML representation or trust the notebook. <br />On GitHub, the HTML representation is unable to render, please try loading this page with nbviewer.org.</b></div><div class=\"sk-container\" hidden><div class=\"sk-item\"><div class=\"sk-estimator sk-toggleable\"><input class=\"sk-toggleable__control sk-hidden--visually\" id=\"sk-estimator-id-4\" type=\"checkbox\" checked><label for=\"sk-estimator-id-4\" class=\"sk-toggleable__label sk-toggleable__label-arrow\">LogisticRegression</label><div class=\"sk-toggleable__content\"><pre>LogisticRegression(max_iter=1000, random_state=100)</pre></div></div></div></div></div>"
            ]
          },
          "metadata": {},
          "execution_count": 61
        }
      ]
    },
    {
      "cell_type": "markdown",
      "source": [
        "## 3.3 Análisis Rendimiento\n",
        "- Accuracy\n",
        "- F1-score (average='weighted')\n",
        "- Classification report (zero_division=0)\n",
        "- Confusion matrix"
      ],
      "metadata": {
        "id": "6cVVLURXlIWz"
      }
    },
    {
      "cell_type": "code",
      "source": [
        "from sklearn.metrics import accuracy_score, f1_score, classification_report, confusion_matrix, ConfusionMatrixDisplay\n",
        "\n",
        "# predicciones en base a X_test\n",
        "y_pred = modelo.predict(X_test)"
      ],
      "metadata": {
        "id": "f-yHS80fu2gn"
      },
      "execution_count": 69,
      "outputs": []
    },
    {
      "cell_type": "code",
      "source": [
        "# Accuracy\n",
        "accuracy = accuracy_score(y_test, y_pred)\n",
        "print(f\"Accuracy: {round(accuracy*100, 2)}%\")"
      ],
      "metadata": {
        "colab": {
          "base_uri": "https://localhost:8080/"
        },
        "id": "ITfDdz3QlL6N",
        "outputId": "790d3a79-9f9b-463b-cdae-4242e3663c20"
      },
      "execution_count": 80,
      "outputs": [
        {
          "output_type": "stream",
          "name": "stdout",
          "text": [
            "Accuracy: 69.45%\n"
          ]
        }
      ]
    },
    {
      "cell_type": "code",
      "source": [
        "# F1-score\n",
        "f1 = f1_score(y_test, y_pred, average='weighted', zero_division=0)\n",
        "print(\"F1-score:\", f1)"
      ],
      "metadata": {
        "colab": {
          "base_uri": "https://localhost:8080/"
        },
        "id": "KYf01GS2tlVL",
        "outputId": "5da16710-3335-4d99-9a9a-7c9637931de8"
      },
      "execution_count": 65,
      "outputs": [
        {
          "output_type": "stream",
          "name": "stdout",
          "text": [
            "F1-score: 0.6782225048024904\n"
          ]
        }
      ]
    },
    {
      "cell_type": "code",
      "source": [
        "# Classification report\n",
        "class_report = classification_report(y_test, y_pred, zero_division=0)\n",
        "print(\"Classification report:\")\n",
        "print(class_report)"
      ],
      "metadata": {
        "colab": {
          "base_uri": "https://localhost:8080/"
        },
        "id": "Y7V2QBM3tlwF",
        "outputId": "f99af59a-5cef-44b8-9bbc-fc02e347c168"
      },
      "execution_count": 66,
      "outputs": [
        {
          "output_type": "stream",
          "name": "stdout",
          "text": [
            "Classification report:\n",
            "              precision    recall  f1-score   support\n",
            "\n",
            "           1       0.68      0.70      0.69     42680\n",
            "           2       0.73      0.79      0.76     56417\n",
            "           3       0.62      0.69      0.66      7136\n",
            "           4       0.66      0.13      0.21       578\n",
            "           5       0.00      0.00      0.00      1873\n",
            "           6       0.38      0.14      0.21      3400\n",
            "           7       0.57      0.22      0.32      4119\n",
            "\n",
            "    accuracy                           0.69    116203\n",
            "   macro avg       0.52      0.38      0.41    116203\n",
            "weighted avg       0.67      0.69      0.68    116203\n",
            "\n"
          ]
        }
      ]
    },
    {
      "cell_type": "markdown",
      "source": [
        "en general la media de precisión no es mala, pero hay variables con muy baja precisión."
      ],
      "metadata": {
        "id": "Q0Hw1h2GyV7L"
      }
    },
    {
      "cell_type": "code",
      "source": [
        "# Confusion matrix\n",
        "matriz_conf = ConfusionMatrixDisplay(confusion_matrix=confusion_matrix(y_test, y_pred), display_labels=modelo.classes_)\n",
        "matriz_conf.plot()\n",
        "\n",
        "plt.show()"
      ],
      "metadata": {
        "colab": {
          "base_uri": "https://localhost:8080/",
          "height": 449
        },
        "id": "CMo_sWP0tmXo",
        "outputId": "af7640e5-d7a3-4f46-9579-183f3189464b"
      },
      "execution_count": 70,
      "outputs": [
        {
          "output_type": "display_data",
          "data": {
            "text/plain": [
              "<Figure size 640x480 with 2 Axes>"
            ],
            "image/png": "[encoded data removed]"
          },
          "metadata": {}
        }
      ]
    },
    {
      "cell_type": "markdown",
      "source": [
        "# EJERCICIO 4: Árboles Decisión\n",
        "Modelo basados en árboles de decisión"
      ],
      "metadata": {
        "id": "r6bTtdDExr3U"
      }
    },
    {
      "cell_type": "markdown",
      "source": [
        "## 4.1 Decision Tree Classifire\n",
        "Entrena un modelo tipo Decision Tree Classifire y calcula las métricas correspondientes para analizar su rendimiento en comparación con el modelo anterior:\n",
        "\n",
        "- random_state=100\n",
        "- Accuracy\n",
        "- F1-score (average='weighted')\n",
        "- Classification report (zero_division=0)"
      ],
      "metadata": {
        "id": "PF9ACUe3x6v_"
      }
    },
    {
      "cell_type": "code",
      "source": [
        "from sklearn.tree import DecisionTreeClassifier\n",
        "from sklearn.model_selection import train_test_split\n",
        "df_4 = df_3.copy()\n",
        "print('Done')"
      ],
      "metadata": {
        "colab": {
          "base_uri": "https://localhost:8080/"
        },
        "id": "-1ebZIe5yJTV",
        "outputId": "f25cce8a-947d-4e4d-f8da-b1f708b55eae"
      },
      "execution_count": 72,
      "outputs": [
        {
          "output_type": "stream",
          "name": "stdout",
          "text": [
            "Done\n"
          ]
        }
      ]
    },
    {
      "cell_type": "code",
      "source": [
        "modelo2 = DecisionTreeClassifier(random_state=100)\n",
        "modelo2.fit(X_train, y_train)\n",
        "y_pred_2 = modelo2.predict(X_test)"
      ],
      "metadata": {
        "id": "qXp1f_PXyxn8"
      },
      "execution_count": 76,
      "outputs": []
    },
    {
      "cell_type": "code",
      "source": [
        "accuracy_2 = accuracy_score(y_test, y_pred_2)\n",
        "print(f\"Accuracy: {round(accuracy_2*100, 2)}%\")\n",
        "\n",
        "f1_2 = f1_score(y_test, y_pred_2, average='weighted')\n",
        "print(\"F1-score:\", f1_2)\n",
        "\n",
        "classification_2 = classification_report(y_test, y_pred_2, zero_division=0)\n",
        "print(\"Classification report:\")\n",
        "print(classification_2)"
      ],
      "metadata": {
        "colab": {
          "base_uri": "https://localhost:8080/"
        },
        "id": "7Mzc7Cuh0PZZ",
        "outputId": "a45d395e-937d-4a00-99da-08b532600eb9"
      },
      "execution_count": 81,
      "outputs": [
        {
          "output_type": "stream",
          "name": "stdout",
          "text": [
            "Accuracy: 91.96%\n",
            "F1-score: 0.919636122762558\n",
            "Classification report:\n",
            "              precision    recall  f1-score   support\n",
            "\n",
            "           1       0.92      0.92      0.92     42680\n",
            "           2       0.93      0.93      0.93     56417\n",
            "           3       0.90      0.89      0.90      7136\n",
            "           4       0.80      0.80      0.80       578\n",
            "           5       0.79      0.79      0.79      1873\n",
            "           6       0.82      0.83      0.83      3400\n",
            "           7       0.93      0.93      0.93      4119\n",
            "\n",
            "    accuracy                           0.92    116203\n",
            "   macro avg       0.87      0.87      0.87    116203\n",
            "weighted avg       0.92      0.92      0.92    116203\n",
            "\n"
          ]
        }
      ]
    },
    {
      "cell_type": "markdown",
      "source": [
        "## 4.2 Curva Complejidad\n",
        "Saca la curva de complejidad del modelo Decision Tree (Model Complexity Curve) y crea un nuevo clasificador con el valor óptimo de la profundidad del árbol según esta gráfica. Después saca las métricas correspondiente y analiza el rendimiento del modelo en comparación de los anteriores.\n",
        "\n",
        "- random_state=100\n",
        "- rango de profundidades: de 2 a 30 inclusive"
      ],
      "metadata": {
        "id": "5UPNZ8uJ184q"
      }
    },
    {
      "cell_type": "code",
      "source": [
        "from sklearn.model_selection import validation_curve"
      ],
      "metadata": {
        "id": "HeNKo5WD6EYT"
      },
      "execution_count": 85,
      "outputs": []
    },
    {
      "cell_type": "code",
      "source": [
        "rango_profund = range(2, 31)  #rango profundidad del arbol\n",
        "\n",
        "# Entrenar y evaluar el modelo con diferentes profundidades\n",
        "train_scores, test_scores = validation_curve( DecisionTreeClassifier(random_state=100),\n",
        "    X_train, y_train, param_name='max_depth', param_range=rango_profund, scoring='accuracy', n_jobs=-1)\n",
        "\n",
        "# Cálculos media y desviación típica\n",
        "train_mean = np.mean(train_scores, axis=1) # de lso datos entrenados\n",
        "train_std = np.std(train_scores, axis=1)\n",
        "test_mean = np.mean(test_scores, axis=1) # de los datos de test\n",
        "test_std = np.std(test_scores, axis=1)"
      ],
      "metadata": {
        "id": "_mFa3y5h0hKZ"
      },
      "execution_count": 86,
      "outputs": []
    },
    {
      "cell_type": "code",
      "source": [
        "# Representación gráfica\n",
        "plt.figure(figsize=(8, 6))\n",
        "plt.title('Model Complexity Curve - Decision Tree Classifier')\n",
        "plt.plot(rango_profund, train_mean, label='Training score', color='blue')\n",
        "plt.fill_between(rango_profund, train_mean - train_std, train_mean + train_std, alpha=0.1, color='blue')\n",
        "plt.plot(rango_profund, test_mean, label='Cross-validation score', color='green')\n",
        "plt.fill_between(rango_profund, test_mean - test_std, test_mean + test_std, alpha=0.1, color='green')\n",
        "plt.xlabel('Max depth')\n",
        "plt.ylabel('Accuracy score')\n",
        "plt.legend(loc='lower right')\n",
        "plt.ylim([0.5, 1.0])\n",
        "plt.show()"
      ],
      "metadata": {
        "colab": {
          "base_uri": "https://localhost:8080/",
          "height": 564
        },
        "id": "MGofhvPz2Xzp",
        "outputId": "95dbd77a-ec34-40db-8343-de088c4a776c"
      },
      "execution_count": 87,
      "outputs": [
        {
          "output_type": "display_data",
          "data": {
            "text/plain": [
              "<Figure size 800x600 with 1 Axes>"
            ],
            "image/png": "[encoded data removed]"
          },
          "metadata": {}
        }
      ]
    },
    {
      "cell_type": "markdown",
      "source": [
        "## 4.3 Learning Curve\n",
        "Saca la gráfica de el Learning Curve para estos modelos, definiendo y aplicando una función que toma el valor del hiperparámetro como su entrada y dibuja la evolución del rendimiento del modelo para el conjunto de training y de test. Explica si este último modelo tiene preferencia o no, comparando con modelos anteriores.\n",
        "\n",
        "- random_state=100\n",
        "- (Sugerencia: No incluya más de 10 puntos en el eje horizontal y empieza la gráfica con un mínimo de 1000 muestras para el modelo)"
      ],
      "metadata": {
        "id": "huAMttg1GMMF"
      }
    },
    {
      "cell_type": "code",
      "source": [
        "from sklearn.model_selection import learning_curve\n",
        "\n",
        "def plot_learning_curve(modelo, X, y, train_sizes=None, cv=None, scoring='accuracy'):\n",
        "    train_sizes, train_scores, test_scores = learning_curve(modelo, X, y, train_sizes=train_sizes, cv=cv, scoring=scoring)\n",
        "    \n",
        "    # media, desviacion datos\n",
        "    train_scores_mean = np.mean(train_scores, axis=1)\n",
        "    train_scores_std = np.std(train_scores, axis=1)\n",
        "    test_scores_mean = np.mean(test_scores, axis=1)\n",
        "    test_scores_std = np.std(test_scores, axis=1)\n",
        "\n",
        "    # Representación gráfica\n",
        "    plt.grid()\n",
        "    plt.fill_between(train_sizes, train_scores_mean - train_scores_std,\n",
        "                     train_scores_mean + train_scores_std, alpha=0.1,\n",
        "                     color=\"r\")\n",
        "    plt.fill_between(train_sizes, test_scores_mean - test_scores_std,\n",
        "                     test_scores_mean + test_scores_std, alpha=0.1,\n",
        "                     color=\"g\")\n",
        "    plt.plot(train_sizes, train_scores_mean, 'o-', color=\"r\",\n",
        "             label=\"Training score\")\n",
        "    plt.plot(train_sizes, test_scores_mean, 'o-', color=\"g\",\n",
        "             label=\"Cross-validation score\")\n",
        "    plt.legend(loc=\"best\")\n",
        "\n",
        "    return plt"
      ],
      "metadata": {
        "id": "FZ66i3wXJ-9G"
      },
      "execution_count": 90,
      "outputs": []
    },
    {
      "cell_type": "code",
      "source": [
        "from sklearn.tree import DecisionTreeClassifier\n",
        "\n",
        "dtc = DecisionTreeClassifier(max_depth=10, random_state=100)\n",
        "plot_learning_curve(dtc, X_train, y_train, cv=5, train_sizes=np.linspace(0.1, 1.0, 10))\n",
        "plt.title(\"Learning Curve (Decision Tree Classifier, max_depth=10)\")\n",
        "plt.xlabel(\"Training examples\")\n",
        "plt.ylabel(\"Score\")\n",
        "plt.show()"
      ],
      "metadata": {
        "colab": {
          "base_uri": "https://localhost:8080/",
          "height": 472
        },
        "id": "RAakK6zmKCnv",
        "outputId": "b2117d71-8ace-4c19-e160-746e76aa33bb"
      },
      "execution_count": 91,
      "outputs": [
        {
          "output_type": "display_data",
          "data": {
            "text/plain": [
              "<Figure size 640x480 with 1 Axes>"
            ],
            "image/png": "[encoded data removed]"
          },
          "metadata": {}
        }
      ]
    },
    {
      "cell_type": "markdown",
      "source": [
        "# EJERCICIO 5: Bosques Aleatorios\n",
        "Ahora probamos la creación de otros modelo basados en bosques aleatorios:"
      ],
      "metadata": {
        "id": "VeZVavNIPjjS"
      }
    },
    {
      "cell_type": "markdown",
      "source": [
        "5.1 Entrena un modelo tipo Random Forest Classifire y calcula las métricas correspondientes para analizar su rendimiento en comparación con los modelos anteriores:\n",
        "\n",
        "random_state=100\n"
      ],
      "metadata": {
        "id": "nwa16xKPQBav"
      }
    },
    {
      "cell_type": "markdown",
      "source": [
        "5.2 Consulta la profundidad de todos los árboles del bosque creado en el paso anterior y calcula la mediana de este parámetro.\n",
        "\n"
      ],
      "metadata": {
        "id": "djd6n4AiQF4a"
      }
    },
    {
      "cell_type": "markdown",
      "source": [
        "## 5.3 Curva Complejidad Random Forest\n",
        "Saca las curvas de complejidad del modelo Random Forest (Model Complexity Curve) y crea un nuevo clasificador con los valores óptimos analizados dentro de los rangos indicados para cada hiperparámeto. Después crea un modelo con estos parámetros \"óptimos\" y saca las métricas correspondientes para analizar el rendimiento del modelo en comparación con los anteriores.\n",
        "\n",
        "- random_state=100\n",
        "- define un rango con funciones de numpy para considerar estos números de árboles: [200, 250, 300, 350, 400]\n",
        "- rango de profundidades: de 20 a 40 inclusive en pasos de 2 en 2.\n",
        "considera estas opciones para max_features : [\"auto\", \"log2\", None]\n",
        "- Accuracy\n",
        "- F1-score (average='weighted')\n",
        "- Classification report (zero_division=0)\n",
        "- OOB (out-of-bag score)"
      ],
      "metadata": {
        "id": "eG0f0bQuQKsw"
      }
    },
    {
      "cell_type": "markdown",
      "source": [
        "5.4 Saca la gráfica del Learning Curve para estos modelos, definiendo y aplicando una función que toma el valor de los hiperparámetros analizados como su entrada y dibuja la evolución del rendimiento del modelo para el conjunto de training y de test. Explica si este último modelo tiene preferencia o no, comparando con modelos anteriores.\n",
        "\n",
        "- random_state=100\n",
        "- (Sugerencia: No incluya más de 10 puntos en el eje horizontal y empieza la gráfica con un mínimo de 1000 muestras para el modelo)"
      ],
      "metadata": {
        "id": "Je5YTQGObbEF"
      }
    },
    {
      "cell_type": "code",
      "source": [],
      "metadata": {
        "id": "tOCBNuaxPdES"
      },
      "execution_count": null,
      "outputs": []
    }
  ]
}